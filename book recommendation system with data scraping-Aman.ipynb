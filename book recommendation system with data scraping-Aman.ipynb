{
 "cells": [
  {
   "cell_type": "code",
   "execution_count": 3,
   "metadata": {},
   "outputs": [],
   "source": [
    "import requests #packages that is used to download the content from web\n",
    "import os # package used for file process\n",
    "from bs4 import BeautifulSoup as bs #a Python library for pulling data out of HTML and XML files\n",
    "import pandas as pd\n",
    "import numpy as np\n",
    "import re"
   ]
  },
  {
   "cell_type": "code",
   "execution_count": 311,
   "metadata": {},
   "outputs": [],
   "source": [
    "all_books=[]"
   ]
  },
  {
   "cell_type": "code",
   "execution_count": 313,
   "metadata": {},
   "outputs": [],
   "source": [
    "url = \"https://www.goodreads.com/list/show/264.Books_That_Everyone_Should_Read_At_Least_Once?page=1\"\n",
    "def get_page(url):\n",
    "    page = requests.get(url)\n",
    "    status = page.status_code\n",
    "    soup = bs(page.text, \"html.parser\" )\n",
    "    return [soup,status]"
   ]
  },
  {
   "cell_type": "code",
   "execution_count": 314,
   "metadata": {},
   "outputs": [],
   "source": [
    "def get_links(soup):\n",
    "    links = []\n",
    "    listings = soup.find_all('a' ,{'class' : 'bookTitle'})\n",
    "    for listing in listings:\n",
    "        bk_lnk = listing.get(\"href\")\n",
    "        base_url=\"https://www.goodreads.com\"\n",
    "        cmplt_link=base_url + bk_lnk\n",
    "        links.append(cmplt_link)\n",
    "    return links"
   ]
  },
  {
   "cell_type": "code",
   "execution_count": 319,
   "metadata": {},
   "outputs": [],
   "source": [
    "#extract info from each link\n",
    "def extract_info(links):\n",
    "    for link in links:\n",
    "        res = requests.get(link)\n",
    "        bsoup = bs(res.text, \"html.parser\")\n",
    "        try:\n",
    "            title = bsoup.find('h1', {'id':'bookTitle'}).text.strip()\n",
    "            author=bsoup.find('span', {'itemprop':'name'}).text.strip()\n",
    "            average_rating= bsoup.find('span', {'itemprop':'ratingValue'}).text.strip()\n",
    "            genres = bsoup.find_all(class_='actionLinkLite bookPageGenreLink')\n",
    "            #genres = [genre.text.strip() for genre in genres]\n",
    "            language = bsoup.find('div' , {'itemprop' : 'inLanguage'}).text.strip()\n",
    "            description =bsoup.find('div', {'id': 'description'}).find_all('span')[-1].text.strip()\n",
    "        except AttributeError:\n",
    "            continue\n",
    "\n",
    "        book={'title': title,'author': author,'average_rating':average_rating,'genres':genres,'language':language,'description':description}\n",
    "        all_books.append(book)\n",
    "    \n",
    "    return (len(all_books))"
   ]
  },
  {
   "cell_type": "code",
   "execution_count": 325,
   "metadata": {},
   "outputs": [
    {
     "name": "stdout",
     "output_type": "stream",
     "text": [
      "scraping page 2\n",
      "176\n",
      "scraping page 3\n",
      "269\n",
      "scraping page 4\n",
      "360\n",
      "scraping page 5\n",
      "448\n",
      "scraping page 6\n",
      "532\n",
      "scraping page 7\n",
      "614\n",
      "scraping page 8\n",
      "701\n",
      "scraping page 9\n",
      "782\n",
      "scraping page 10\n",
      "867\n",
      "scraping page 11\n",
      "947\n",
      "scraping page 12\n",
      "1034\n",
      "scraping page 13\n",
      "1121\n",
      "scraping page 14\n",
      "1204\n",
      "scraping page 15\n",
      "1289\n",
      "scraping page 16\n",
      "1373\n",
      "scraping page 17\n",
      "1460\n",
      "scraping page 18\n",
      "1539\n",
      "scraping page 19\n",
      "1626\n",
      "scraping page 20\n",
      "1711\n",
      "scraping page 21\n",
      "1793\n",
      "scraping page 22\n",
      "1874\n",
      "scraping page 23\n",
      "1962\n",
      "scraping page 24\n",
      "2039\n",
      "scraping page 25\n",
      "2119\n",
      "scraping page 26\n",
      "2203\n",
      "scraping page 27\n",
      "2282\n",
      "scraping page 28\n",
      "2358\n",
      "scraping page 29\n",
      "2433\n",
      "scraping page 30\n",
      "2515\n"
     ]
    }
   ],
   "source": [
    "for x in range (2,31):\n",
    "    #while True:\n",
    "    url = f\"https://www.goodreads.com/list/show/264.Books_That_Everyone_Should_Read_At_Least_Once?page={x}\"\n",
    "    soup_status = get_page(url)\n",
    "    if soup_status[1] == 200:\n",
    "        print(f\"scraping page {x}\")\n",
    "        extract_info(get_links(soup_status[0]))\n",
    "        print(len(all_books))\n",
    "    else:\n",
    "        print(\"The End\")\n",
    "        break"
   ]
  },
  {
   "cell_type": "code",
   "execution_count": 327,
   "metadata": {},
   "outputs": [
    {
     "name": "stdout",
     "output_type": "stream",
     "text": [
      "Fin.\n"
     ]
    }
   ],
   "source": [
    "maf= pd.DataFrame(all_books)\n",
    "maf.to_csv('book_list_30.csv', index=False)\n",
    "print('Fin.' )"
   ]
  },
  {
   "cell_type": "code",
   "execution_count": 328,
   "metadata": {
    "scrolled": true
   },
   "outputs": [
    {
     "data": {
      "text/html": [
       "<div>\n",
       "<style scoped>\n",
       "    .dataframe tbody tr th:only-of-type {\n",
       "        vertical-align: middle;\n",
       "    }\n",
       "\n",
       "    .dataframe tbody tr th {\n",
       "        vertical-align: top;\n",
       "    }\n",
       "\n",
       "    .dataframe thead th {\n",
       "        text-align: right;\n",
       "    }\n",
       "</style>\n",
       "<table border=\"1\" class=\"dataframe\">\n",
       "  <thead>\n",
       "    <tr style=\"text-align: right;\">\n",
       "      <th></th>\n",
       "      <th>title</th>\n",
       "      <th>author</th>\n",
       "      <th>average_rating</th>\n",
       "      <th>genres</th>\n",
       "      <th>language</th>\n",
       "      <th>description</th>\n",
       "    </tr>\n",
       "  </thead>\n",
       "  <tbody>\n",
       "    <tr>\n",
       "      <th>0</th>\n",
       "      <td>To Kill a Mockingbird</td>\n",
       "      <td>Harper Lee</td>\n",
       "      <td>4.27</td>\n",
       "      <td>[Classics, Fiction, Historical, Historical Fic...</td>\n",
       "      <td>English</td>\n",
       "      <td>The unforgettable novel of a childhood in a sl...</td>\n",
       "    </tr>\n",
       "    <tr>\n",
       "      <th>1</th>\n",
       "      <td>Harry Potter and the Sorcerer's Stone</td>\n",
       "      <td>J.K. Rowling</td>\n",
       "      <td>4.47</td>\n",
       "      <td>[Fantasy, Fiction, Young Adult, Fantasy, Magic...</td>\n",
       "      <td>English</td>\n",
       "      <td>Harry Potter's life is miserable. His parents ...</td>\n",
       "    </tr>\n",
       "    <tr>\n",
       "      <th>2</th>\n",
       "      <td>Pride and Prejudice</td>\n",
       "      <td>Jane Austen</td>\n",
       "      <td>4.27</td>\n",
       "      <td>[Classics, Fiction, Romance, Historical, Histo...</td>\n",
       "      <td>English</td>\n",
       "      <td>Alternate cover edition of ISBN 9780679783268S...</td>\n",
       "    </tr>\n",
       "    <tr>\n",
       "      <th>3</th>\n",
       "      <td>The Diary of a Young Girl</td>\n",
       "      <td>Anne Frank</td>\n",
       "      <td>4.17</td>\n",
       "      <td>[Nonfiction, Classics, History, Biography, Aut...</td>\n",
       "      <td>English</td>\n",
       "      <td>Discovered in the attic in which she spent the...</td>\n",
       "    </tr>\n",
       "    <tr>\n",
       "      <th>4</th>\n",
       "      <td>Animal Farm</td>\n",
       "      <td>George Orwell</td>\n",
       "      <td>3.97</td>\n",
       "      <td>[Classics, Fiction, Science Fiction, Dystopia,...</td>\n",
       "      <td>English</td>\n",
       "      <td>Librarian's note: There is an Alternate Cover ...</td>\n",
       "    </tr>\n",
       "    <tr>\n",
       "      <th>...</th>\n",
       "      <td>...</td>\n",
       "      <td>...</td>\n",
       "      <td>...</td>\n",
       "      <td>...</td>\n",
       "      <td>...</td>\n",
       "      <td>...</td>\n",
       "    </tr>\n",
       "    <tr>\n",
       "      <th>2510</th>\n",
       "      <td>Faust</td>\n",
       "      <td>Johann Wolfgang von Goethe</td>\n",
       "      <td>3.93</td>\n",
       "      <td>[Classics, Fiction, Poetry, Plays, Literature,...</td>\n",
       "      <td>Multiple languages</td>\n",
       "      <td>Goethe’s Faust reworks the late medieval myth ...</td>\n",
       "    </tr>\n",
       "    <tr>\n",
       "      <th>2511</th>\n",
       "      <td>The Paying Guests</td>\n",
       "      <td>Sarah Waters</td>\n",
       "      <td>3.45</td>\n",
       "      <td>[Historical, Historical Fiction, Fiction, LGBT...</td>\n",
       "      <td>English</td>\n",
       "      <td>It is 1922, and London is tense. Ex-servicemen...</td>\n",
       "    </tr>\n",
       "    <tr>\n",
       "      <th>2512</th>\n",
       "      <td>The Ask and the Answer</td>\n",
       "      <td>Patrick Ness</td>\n",
       "      <td>4.17</td>\n",
       "      <td>[Young Adult, Science Fiction, Dystopia, Scien...</td>\n",
       "      <td>English</td>\n",
       "      <td>We were in the square, in the square where I'd...</td>\n",
       "    </tr>\n",
       "    <tr>\n",
       "      <th>2513</th>\n",
       "      <td>I Will Wait for You: Eternal Bliss</td>\n",
       "      <td>Linda Masemore Pirrung</td>\n",
       "      <td>4.44</td>\n",
       "      <td>[Romance]</td>\n",
       "      <td>English</td>\n",
       "      <td>Sidney Scofield and Alexandra Deveaux spent th...</td>\n",
       "    </tr>\n",
       "    <tr>\n",
       "      <th>2514</th>\n",
       "      <td>Nothing Can Come Between Us</td>\n",
       "      <td>Cherlina Works</td>\n",
       "      <td>4.22</td>\n",
       "      <td>[Novels, Fiction, Contemporary, Adult, Young A...</td>\n",
       "      <td>English</td>\n",
       "      <td>Based on lust and hate, \"Nothing Can Come Betw...</td>\n",
       "    </tr>\n",
       "  </tbody>\n",
       "</table>\n",
       "<p>2515 rows × 6 columns</p>\n",
       "</div>"
      ],
      "text/plain": [
       "                                      title                      author  \\\n",
       "0                     To Kill a Mockingbird                  Harper Lee   \n",
       "1     Harry Potter and the Sorcerer's Stone                J.K. Rowling   \n",
       "2                       Pride and Prejudice                 Jane Austen   \n",
       "3                 The Diary of a Young Girl                  Anne Frank   \n",
       "4                               Animal Farm               George Orwell   \n",
       "...                                     ...                         ...   \n",
       "2510                                  Faust  Johann Wolfgang von Goethe   \n",
       "2511                      The Paying Guests                Sarah Waters   \n",
       "2512                 The Ask and the Answer                Patrick Ness   \n",
       "2513     I Will Wait for You: Eternal Bliss      Linda Masemore Pirrung   \n",
       "2514            Nothing Can Come Between Us              Cherlina Works   \n",
       "\n",
       "     average_rating                                             genres  \\\n",
       "0              4.27  [Classics, Fiction, Historical, Historical Fic...   \n",
       "1              4.47  [Fantasy, Fiction, Young Adult, Fantasy, Magic...   \n",
       "2              4.27  [Classics, Fiction, Romance, Historical, Histo...   \n",
       "3              4.17  [Nonfiction, Classics, History, Biography, Aut...   \n",
       "4              3.97  [Classics, Fiction, Science Fiction, Dystopia,...   \n",
       "...             ...                                                ...   \n",
       "2510           3.93  [Classics, Fiction, Poetry, Plays, Literature,...   \n",
       "2511           3.45  [Historical, Historical Fiction, Fiction, LGBT...   \n",
       "2512           4.17  [Young Adult, Science Fiction, Dystopia, Scien...   \n",
       "2513           4.44                                          [Romance]   \n",
       "2514           4.22  [Novels, Fiction, Contemporary, Adult, Young A...   \n",
       "\n",
       "                language                                        description  \n",
       "0                English  The unforgettable novel of a childhood in a sl...  \n",
       "1                English  Harry Potter's life is miserable. His parents ...  \n",
       "2                English  Alternate cover edition of ISBN 9780679783268S...  \n",
       "3                English  Discovered in the attic in which she spent the...  \n",
       "4                English  Librarian's note: There is an Alternate Cover ...  \n",
       "...                  ...                                                ...  \n",
       "2510  Multiple languages  Goethe’s Faust reworks the late medieval myth ...  \n",
       "2511             English  It is 1922, and London is tense. Ex-servicemen...  \n",
       "2512             English  We were in the square, in the square where I'd...  \n",
       "2513             English  Sidney Scofield and Alexandra Deveaux spent th...  \n",
       "2514             English  Based on lust and hate, \"Nothing Can Come Betw...  \n",
       "\n",
       "[2515 rows x 6 columns]"
      ]
     },
     "execution_count": 328,
     "metadata": {},
     "output_type": "execute_result"
    }
   ],
   "source": [
    "maf"
   ]
  },
  {
   "cell_type": "code",
   "execution_count": 155,
   "metadata": {},
   "outputs": [],
   "source": [
    "df=pd.read_csv('D://project book recommedation system//books_data_50_1.csv')"
   ]
  },
  {
   "cell_type": "code",
   "execution_count": 156,
   "metadata": {},
   "outputs": [
    {
     "data": {
      "text/html": [
       "<div>\n",
       "<style scoped>\n",
       "    .dataframe tbody tr th:only-of-type {\n",
       "        vertical-align: middle;\n",
       "    }\n",
       "\n",
       "    .dataframe tbody tr th {\n",
       "        vertical-align: top;\n",
       "    }\n",
       "\n",
       "    .dataframe thead th {\n",
       "        text-align: right;\n",
       "    }\n",
       "</style>\n",
       "<table border=\"1\" class=\"dataframe\">\n",
       "  <thead>\n",
       "    <tr style=\"text-align: right;\">\n",
       "      <th></th>\n",
       "      <th>Unnamed: 0</th>\n",
       "      <th>book_id</th>\n",
       "      <th>title</th>\n",
       "      <th>author</th>\n",
       "      <th>average_rating</th>\n",
       "      <th>genre</th>\n",
       "      <th>description</th>\n",
       "      <th>url</th>\n",
       "      <th>image_url</th>\n",
       "    </tr>\n",
       "  </thead>\n",
       "  <tbody>\n",
       "    <tr>\n",
       "      <th>0</th>\n",
       "      <td>0</td>\n",
       "      <td>2657</td>\n",
       "      <td>To Kill a Mockingbird</td>\n",
       "      <td>Harper Lee</td>\n",
       "      <td>4.27</td>\n",
       "      <td>Classics</td>\n",
       "      <td>The unforgettable novel of a childhood in a sl...</td>\n",
       "      <td>https://www.goodreads.com/book/show/2657.To_Ki...</td>\n",
       "      <td>https://i.gr-assets.com/images/S/compressed.ph...</td>\n",
       "    </tr>\n",
       "    <tr>\n",
       "      <th>1</th>\n",
       "      <td>1</td>\n",
       "      <td>3</td>\n",
       "      <td>Harry Potter and the Sorcerer's Stone</td>\n",
       "      <td>J.K. Rowling</td>\n",
       "      <td>4.47</td>\n",
       "      <td>Fantasy</td>\n",
       "      <td>Harry Potter's life is miserable. His parents ...</td>\n",
       "      <td>https://www.goodreads.com/book/show/3.Harry_Po...</td>\n",
       "      <td>https://i.gr-assets.com/images/S/compressed.ph...</td>\n",
       "    </tr>\n",
       "    <tr>\n",
       "      <th>2</th>\n",
       "      <td>2</td>\n",
       "      <td>1885</td>\n",
       "      <td>Pride and Prejudice</td>\n",
       "      <td>Jane Austen</td>\n",
       "      <td>4.27</td>\n",
       "      <td>Classics</td>\n",
       "      <td>Alternate cover edition of ISBN 9780679783268S...</td>\n",
       "      <td>https://www.goodreads.com/book/show/1885.Pride...</td>\n",
       "      <td>https://i.gr-assets.com/images/S/compressed.ph...</td>\n",
       "    </tr>\n",
       "    <tr>\n",
       "      <th>3</th>\n",
       "      <td>3</td>\n",
       "      <td>48855</td>\n",
       "      <td>The Diary of a Young Girl</td>\n",
       "      <td>Anne Frank</td>\n",
       "      <td>4.17</td>\n",
       "      <td>Nonfiction</td>\n",
       "      <td>Discovered in the attic in which she spent the...</td>\n",
       "      <td>https://www.goodreads.com/book/show/48855.The_...</td>\n",
       "      <td>https://i.gr-assets.com/images/S/compressed.ph...</td>\n",
       "    </tr>\n",
       "    <tr>\n",
       "      <th>4</th>\n",
       "      <td>4</td>\n",
       "      <td>170448</td>\n",
       "      <td>Animal Farm</td>\n",
       "      <td>George Orwell</td>\n",
       "      <td>3.97</td>\n",
       "      <td>Classics</td>\n",
       "      <td>Librarian's note: There is an Alternate Cover ...</td>\n",
       "      <td>https://www.goodreads.com/book/show/170448.Ani...</td>\n",
       "      <td>https://i.gr-assets.com/images/S/compressed.ph...</td>\n",
       "    </tr>\n",
       "  </tbody>\n",
       "</table>\n",
       "</div>"
      ],
      "text/plain": [
       "   Unnamed: 0  book_id                                  title         author  \\\n",
       "0           0     2657                  To Kill a Mockingbird     Harper Lee   \n",
       "1           1        3  Harry Potter and the Sorcerer's Stone   J.K. Rowling   \n",
       "2           2     1885                    Pride and Prejudice    Jane Austen   \n",
       "3           3    48855              The Diary of a Young Girl     Anne Frank   \n",
       "4           4   170448                            Animal Farm  George Orwell   \n",
       "\n",
       "   average_rating       genre  \\\n",
       "0            4.27    Classics   \n",
       "1            4.47     Fantasy   \n",
       "2            4.27    Classics   \n",
       "3            4.17  Nonfiction   \n",
       "4            3.97    Classics   \n",
       "\n",
       "                                         description  \\\n",
       "0  The unforgettable novel of a childhood in a sl...   \n",
       "1  Harry Potter's life is miserable. His parents ...   \n",
       "2  Alternate cover edition of ISBN 9780679783268S...   \n",
       "3  Discovered in the attic in which she spent the...   \n",
       "4  Librarian's note: There is an Alternate Cover ...   \n",
       "\n",
       "                                                 url  \\\n",
       "0  https://www.goodreads.com/book/show/2657.To_Ki...   \n",
       "1  https://www.goodreads.com/book/show/3.Harry_Po...   \n",
       "2  https://www.goodreads.com/book/show/1885.Pride...   \n",
       "3  https://www.goodreads.com/book/show/48855.The_...   \n",
       "4  https://www.goodreads.com/book/show/170448.Ani...   \n",
       "\n",
       "                                           image_url  \n",
       "0  https://i.gr-assets.com/images/S/compressed.ph...  \n",
       "1  https://i.gr-assets.com/images/S/compressed.ph...  \n",
       "2  https://i.gr-assets.com/images/S/compressed.ph...  \n",
       "3  https://i.gr-assets.com/images/S/compressed.ph...  \n",
       "4  https://i.gr-assets.com/images/S/compressed.ph...  "
      ]
     },
     "execution_count": 156,
     "metadata": {},
     "output_type": "execute_result"
    }
   ],
   "source": [
    "df.head()"
   ]
  },
  {
   "cell_type": "code",
   "execution_count": 157,
   "metadata": {},
   "outputs": [],
   "source": [
    "df=df.drop(['Unnamed: 0'],axis=1)"
   ]
  },
  {
   "cell_type": "code",
   "execution_count": 158,
   "metadata": {},
   "outputs": [
    {
     "data": {
      "text/html": [
       "<div>\n",
       "<style scoped>\n",
       "    .dataframe tbody tr th:only-of-type {\n",
       "        vertical-align: middle;\n",
       "    }\n",
       "\n",
       "    .dataframe tbody tr th {\n",
       "        vertical-align: top;\n",
       "    }\n",
       "\n",
       "    .dataframe thead th {\n",
       "        text-align: right;\n",
       "    }\n",
       "</style>\n",
       "<table border=\"1\" class=\"dataframe\">\n",
       "  <thead>\n",
       "    <tr style=\"text-align: right;\">\n",
       "      <th></th>\n",
       "      <th>book_id</th>\n",
       "      <th>title</th>\n",
       "      <th>author</th>\n",
       "      <th>average_rating</th>\n",
       "      <th>genre</th>\n",
       "      <th>description</th>\n",
       "      <th>url</th>\n",
       "      <th>image_url</th>\n",
       "    </tr>\n",
       "  </thead>\n",
       "  <tbody>\n",
       "    <tr>\n",
       "      <th>0</th>\n",
       "      <td>2657</td>\n",
       "      <td>To Kill a Mockingbird</td>\n",
       "      <td>Harper Lee</td>\n",
       "      <td>4.27</td>\n",
       "      <td>Classics</td>\n",
       "      <td>The unforgettable novel of a childhood in a sl...</td>\n",
       "      <td>https://www.goodreads.com/book/show/2657.To_Ki...</td>\n",
       "      <td>https://i.gr-assets.com/images/S/compressed.ph...</td>\n",
       "    </tr>\n",
       "    <tr>\n",
       "      <th>1</th>\n",
       "      <td>3</td>\n",
       "      <td>Harry Potter and the Sorcerer's Stone</td>\n",
       "      <td>J.K. Rowling</td>\n",
       "      <td>4.47</td>\n",
       "      <td>Fantasy</td>\n",
       "      <td>Harry Potter's life is miserable. His parents ...</td>\n",
       "      <td>https://www.goodreads.com/book/show/3.Harry_Po...</td>\n",
       "      <td>https://i.gr-assets.com/images/S/compressed.ph...</td>\n",
       "    </tr>\n",
       "    <tr>\n",
       "      <th>2</th>\n",
       "      <td>1885</td>\n",
       "      <td>Pride and Prejudice</td>\n",
       "      <td>Jane Austen</td>\n",
       "      <td>4.27</td>\n",
       "      <td>Classics</td>\n",
       "      <td>Alternate cover edition of ISBN 9780679783268S...</td>\n",
       "      <td>https://www.goodreads.com/book/show/1885.Pride...</td>\n",
       "      <td>https://i.gr-assets.com/images/S/compressed.ph...</td>\n",
       "    </tr>\n",
       "    <tr>\n",
       "      <th>3</th>\n",
       "      <td>48855</td>\n",
       "      <td>The Diary of a Young Girl</td>\n",
       "      <td>Anne Frank</td>\n",
       "      <td>4.17</td>\n",
       "      <td>Nonfiction</td>\n",
       "      <td>Discovered in the attic in which she spent the...</td>\n",
       "      <td>https://www.goodreads.com/book/show/48855.The_...</td>\n",
       "      <td>https://i.gr-assets.com/images/S/compressed.ph...</td>\n",
       "    </tr>\n",
       "    <tr>\n",
       "      <th>4</th>\n",
       "      <td>170448</td>\n",
       "      <td>Animal Farm</td>\n",
       "      <td>George Orwell</td>\n",
       "      <td>3.97</td>\n",
       "      <td>Classics</td>\n",
       "      <td>Librarian's note: There is an Alternate Cover ...</td>\n",
       "      <td>https://www.goodreads.com/book/show/170448.Ani...</td>\n",
       "      <td>https://i.gr-assets.com/images/S/compressed.ph...</td>\n",
       "    </tr>\n",
       "  </tbody>\n",
       "</table>\n",
       "</div>"
      ],
      "text/plain": [
       "   book_id                                  title         author  \\\n",
       "0     2657                  To Kill a Mockingbird     Harper Lee   \n",
       "1        3  Harry Potter and the Sorcerer's Stone   J.K. Rowling   \n",
       "2     1885                    Pride and Prejudice    Jane Austen   \n",
       "3    48855              The Diary of a Young Girl     Anne Frank   \n",
       "4   170448                            Animal Farm  George Orwell   \n",
       "\n",
       "   average_rating       genre  \\\n",
       "0            4.27    Classics   \n",
       "1            4.47     Fantasy   \n",
       "2            4.27    Classics   \n",
       "3            4.17  Nonfiction   \n",
       "4            3.97    Classics   \n",
       "\n",
       "                                         description  \\\n",
       "0  The unforgettable novel of a childhood in a sl...   \n",
       "1  Harry Potter's life is miserable. His parents ...   \n",
       "2  Alternate cover edition of ISBN 9780679783268S...   \n",
       "3  Discovered in the attic in which she spent the...   \n",
       "4  Librarian's note: There is an Alternate Cover ...   \n",
       "\n",
       "                                                 url  \\\n",
       "0  https://www.goodreads.com/book/show/2657.To_Ki...   \n",
       "1  https://www.goodreads.com/book/show/3.Harry_Po...   \n",
       "2  https://www.goodreads.com/book/show/1885.Pride...   \n",
       "3  https://www.goodreads.com/book/show/48855.The_...   \n",
       "4  https://www.goodreads.com/book/show/170448.Ani...   \n",
       "\n",
       "                                           image_url  \n",
       "0  https://i.gr-assets.com/images/S/compressed.ph...  \n",
       "1  https://i.gr-assets.com/images/S/compressed.ph...  \n",
       "2  https://i.gr-assets.com/images/S/compressed.ph...  \n",
       "3  https://i.gr-assets.com/images/S/compressed.ph...  \n",
       "4  https://i.gr-assets.com/images/S/compressed.ph...  "
      ]
     },
     "execution_count": 158,
     "metadata": {},
     "output_type": "execute_result"
    }
   ],
   "source": [
    "df.head()"
   ]
  },
  {
   "cell_type": "code",
   "execution_count": 159,
   "metadata": {},
   "outputs": [
    {
     "name": "stdout",
     "output_type": "stream",
     "text": [
      "Harry Potter and the Sorcerer's Stone\n",
      "Harry Potter's life is miserable. His parents are dead and he's stuck with his heartless relatives, who force him to live in a tiny closet under the stairs. But his fortune changes when he receives a letter that tells him the truth about himself: he's a wizard. A mysterious visitor rescues him from his relatives and takes him to his new home, Hogwarts School of Witchcraft and Wizardry.After a lifetime of bottling up his magical powers, Harry finally feels like a normal kid. But even within the Wizarding community, he is special. He is the boy who lived: the only person to have ever survived a killing curse inflicted by the evil Lord Voldemort, who launched a brutal takeover of the Wizarding world, only to vanish after failing to kill Harry.Though Harry's first year at Hogwarts is the best of his life, not everything is perfect. There is a dangerous secret object hidden within the castle walls, and Harry believes it's his responsibility to prevent it from falling into evil hands. But doing so will bring him into contact with forces more terrifying than he ever could have imagined.Full of sympathetic characters, wildly imaginative situations, and countless exciting details, the first installment in the series assembles an unforgettable magical world and sets the stage for many high-stakes adventures to come.\n"
     ]
    }
   ],
   "source": [
    "print(df.title[1])\n",
    "print(df.description[1])"
   ]
  },
  {
   "cell_type": "code",
   "execution_count": 160,
   "metadata": {},
   "outputs": [
    {
     "data": {
      "text/plain": [
       "(4305, 8)"
      ]
     },
     "execution_count": 160,
     "metadata": {},
     "output_type": "execute_result"
    }
   ],
   "source": [
    "df.shape"
   ]
  },
  {
   "cell_type": "code",
   "execution_count": 161,
   "metadata": {},
   "outputs": [
    {
     "data": {
      "text/plain": [
       "book_id           0\n",
       "title             0\n",
       "author            0\n",
       "average_rating    0\n",
       "genre             0\n",
       "description       0\n",
       "url               0\n",
       "image_url         0\n",
       "dtype: int64"
      ]
     },
     "execution_count": 161,
     "metadata": {},
     "output_type": "execute_result"
    }
   ],
   "source": [
    "df.isnull().sum()"
   ]
  },
  {
   "cell_type": "code",
   "execution_count": 162,
   "metadata": {},
   "outputs": [
    {
     "name": "stdout",
     "output_type": "stream",
     "text": [
      "0\n"
     ]
    },
    {
     "data": {
      "text/html": [
       "<div>\n",
       "<style scoped>\n",
       "    .dataframe tbody tr th:only-of-type {\n",
       "        vertical-align: middle;\n",
       "    }\n",
       "\n",
       "    .dataframe tbody tr th {\n",
       "        vertical-align: top;\n",
       "    }\n",
       "\n",
       "    .dataframe thead th {\n",
       "        text-align: right;\n",
       "    }\n",
       "</style>\n",
       "<table border=\"1\" class=\"dataframe\">\n",
       "  <thead>\n",
       "    <tr style=\"text-align: right;\">\n",
       "      <th></th>\n",
       "      <th>book_id</th>\n",
       "      <th>title</th>\n",
       "      <th>author</th>\n",
       "      <th>average_rating</th>\n",
       "      <th>genre</th>\n",
       "      <th>description</th>\n",
       "      <th>url</th>\n",
       "      <th>image_url</th>\n",
       "    </tr>\n",
       "  </thead>\n",
       "  <tbody>\n",
       "  </tbody>\n",
       "</table>\n",
       "</div>"
      ],
      "text/plain": [
       "Empty DataFrame\n",
       "Columns: [book_id, title, author, average_rating, genre, description, url, image_url]\n",
       "Index: []"
      ]
     },
     "execution_count": 162,
     "metadata": {},
     "output_type": "execute_result"
    }
   ],
   "source": [
    "print(df.duplicated().sum())\n",
    "df[df.duplicated()]"
   ]
  },
  {
   "cell_type": "code",
   "execution_count": 163,
   "metadata": {},
   "outputs": [],
   "source": [
    "df=df.drop_duplicates()"
   ]
  },
  {
   "cell_type": "code",
   "execution_count": 164,
   "metadata": {},
   "outputs": [
    {
     "data": {
      "text/plain": [
       "(4305, 8)"
      ]
     },
     "execution_count": 164,
     "metadata": {},
     "output_type": "execute_result"
    }
   ],
   "source": [
    "df.shape"
   ]
  },
  {
   "cell_type": "code",
   "execution_count": 165,
   "metadata": {},
   "outputs": [
    {
     "name": "stdout",
     "output_type": "stream",
     "text": [
      "<class 'pandas.core.frame.DataFrame'>\n",
      "Int64Index: 4305 entries, 0 to 4304\n",
      "Data columns (total 8 columns):\n",
      " #   Column          Non-Null Count  Dtype  \n",
      "---  ------          --------------  -----  \n",
      " 0   book_id         4305 non-null   int64  \n",
      " 1   title           4305 non-null   object \n",
      " 2   author          4305 non-null   object \n",
      " 3   average_rating  4305 non-null   float64\n",
      " 4   genre           4305 non-null   object \n",
      " 5   description     4305 non-null   object \n",
      " 6   url             4305 non-null   object \n",
      " 7   image_url       4305 non-null   object \n",
      "dtypes: float64(1), int64(1), object(6)\n",
      "memory usage: 302.7+ KB\n"
     ]
    }
   ],
   "source": [
    "df.info()"
   ]
  },
  {
   "cell_type": "code",
   "execution_count": 166,
   "metadata": {
    "scrolled": true
   },
   "outputs": [
    {
     "data": {
      "text/plain": [
       "Fiction        991\n",
       "Nonfiction     497\n",
       "Fantasy        417\n",
       "Classics       337\n",
       "Young Adult    230\n",
       "              ... \n",
       "Suspense         1\n",
       "LGBT             1\n",
       "Academic         1\n",
       "Sports           1\n",
       "Gender           1\n",
       "Name: genre, Length: 87, dtype: int64"
      ]
     },
     "execution_count": 166,
     "metadata": {},
     "output_type": "execute_result"
    }
   ],
   "source": [
    "df['genre'].value_counts()"
   ]
  },
  {
   "cell_type": "markdown",
   "metadata": {},
   "source": [
    "# Distribution as per genre"
   ]
  },
  {
   "cell_type": "code",
   "execution_count": 167,
   "metadata": {},
   "outputs": [
    {
     "data": {
      "text/plain": [
       "<AxesSubplot:>"
      ]
     },
     "execution_count": 167,
     "metadata": {},
     "output_type": "execute_result"
    },
    {
     "data": {
      "image/png": "[encoded data removed]",
      "text/plain": [
       "<Figure size 1080x1152 with 1 Axes>"
      ]
     },
     "metadata": {
      "needs_background": "light"
     },
     "output_type": "display_data"
    }
   ],
   "source": [
    "import seaborn as sns\n",
    "import matplotlib.pyplot as plt\n",
    "df['genre'].value_counts().plot(kind='barh',figsize=(15,16))"
   ]
  },
  {
   "cell_type": "code",
   "execution_count": 168,
   "metadata": {},
   "outputs": [
    {
     "name": "stdout",
     "output_type": "stream",
     "text": [
      "The Kite Runner\n"
     ]
    },
    {
     "data": {
      "text/plain": [
       "'Generations of readers young and old, male and female, have fallen in love with the March sisters of Louisa May Alcott’s most popular and enduring novel, Little Women. Here are talented tomboy and author-to-be Jo, tragically frail Beth, beautiful Meg, and romantic, spoiled Amy, united in their devotion to each other and their struggles to survive in New England during the Civil War.It is no secret that Alcott based Little Women on her own early life. While her father, the freethinking reformer and abolitionist Bronson Alcott, hobnobbed with such eminent male authors as Emerson, Thoreau, and Hawthorne, Louisa supported herself and her sisters with \"woman’s work,” including sewing, doing laundry, and acting as a domestic servant. But she soon discovered she could make more money writing. Little Women brought her lasting fame and fortune, and far from being the \"girl’s book” her publisher requested, it explores such timeless themes as love and death, war and peace, the conflict between personal ambition and family responsibilities, and the clash of cultures between Europe and America.'"
      ]
     },
     "execution_count": 168,
     "metadata": {},
     "output_type": "execute_result"
    }
   ],
   "source": [
    "#print the title and description of a random sample\n",
    "print(df['title'][15])\n",
    "df['description'][20]"
   ]
  },
  {
   "cell_type": "code",
   "execution_count": 169,
   "metadata": {},
   "outputs": [
    {
     "data": {
      "text/plain": [
       "Stephen King           45\n",
       "John Grisham           23\n",
       "William Shakespeare    20\n",
       "C.S. Lewis             20\n",
       "Terry Pratchett        18\n",
       "                       ..\n",
       "Svetlana Alexievich     1\n",
       "Jussi Adler-Olsen       1\n",
       "A.F. Knott              1\n",
       "Catherine Steadman      1\n",
       "Ottessa Moshfegh        1\n",
       "Name: author, Length: 2563, dtype: int64"
      ]
     },
     "execution_count": 169,
     "metadata": {},
     "output_type": "execute_result"
    }
   ],
   "source": [
    "df['author'].value_counts()"
   ]
  },
  {
   "cell_type": "code",
   "execution_count": 170,
   "metadata": {},
   "outputs": [
    {
     "data": {
      "image/png": "[encoded data removed]",
      "text/plain": [
       "<Figure size 432x288 with 1 Axes>"
      ]
     },
     "metadata": {
      "needs_background": "light"
     },
     "output_type": "display_data"
    }
   ],
   "source": [
    "df[\"author\"].value_counts().sort_values(ascending=False).head(10).plot.bar()#color=color\n",
    "plt.title(\"Top 10 Authors with highest number of Books\",fontsize=20)\n",
    "plt.xlabel(\"Authors\",fontsize=15)\n",
    "plt.ylabel(\"No. of Books\",fontsize=15)\n",
    "plt.show()"
   ]
  },
  {
   "cell_type": "code",
   "execution_count": 171,
   "metadata": {},
   "outputs": [
    {
     "name": "stdout",
     "output_type": "stream",
     "text": [
      "17\n"
     ]
    },
    {
     "data": {
      "text/plain": [
       "Fiction            991\n",
       "Nonfiction         497\n",
       "Fantasy            417\n",
       "Classics           337\n",
       "Young Adult        230\n",
       "Historical         203\n",
       "Mystery            157\n",
       "Science Fiction    126\n",
       "Romance            122\n",
       "Horror             107\n",
       "Thriller           106\n",
       "History             86\n",
       "Contemporary        73\n",
       "Philosophy          68\n",
       "Plays               65\n",
       "Self Help           61\n",
       "Poetry              55\n",
       "Name: genre, dtype: int64"
      ]
     },
     "execution_count": 171,
     "metadata": {},
     "output_type": "execute_result"
    }
   ],
   "source": [
    "#genres which have books more than 50\n",
    "print((df['genre'].value_counts()>50).sum())\n",
    "df['genre'].value_counts().loc[lambda x : x>50] "
   ]
  },
  {
   "cell_type": "code",
   "execution_count": 172,
   "metadata": {},
   "outputs": [],
   "source": [
    "gh=df"
   ]
  },
  {
   "cell_type": "code",
   "execution_count": 173,
   "metadata": {},
   "outputs": [
    {
     "data": {
      "text/html": [
       "<div>\n",
       "<style scoped>\n",
       "    .dataframe tbody tr th:only-of-type {\n",
       "        vertical-align: middle;\n",
       "    }\n",
       "\n",
       "    .dataframe tbody tr th {\n",
       "        vertical-align: top;\n",
       "    }\n",
       "\n",
       "    .dataframe thead th {\n",
       "        text-align: right;\n",
       "    }\n",
       "</style>\n",
       "<table border=\"1\" class=\"dataframe\">\n",
       "  <thead>\n",
       "    <tr style=\"text-align: right;\">\n",
       "      <th></th>\n",
       "      <th>book_id</th>\n",
       "      <th>title</th>\n",
       "      <th>author</th>\n",
       "      <th>average_rating</th>\n",
       "      <th>genre</th>\n",
       "      <th>description</th>\n",
       "      <th>url</th>\n",
       "      <th>image_url</th>\n",
       "    </tr>\n",
       "  </thead>\n",
       "  <tbody>\n",
       "    <tr>\n",
       "      <th>0</th>\n",
       "      <td>2657</td>\n",
       "      <td>To Kill a Mockingbird</td>\n",
       "      <td>Harper Lee</td>\n",
       "      <td>4.27</td>\n",
       "      <td>Classics</td>\n",
       "      <td>The unforgettable novel of a childhood in a sl...</td>\n",
       "      <td>https://www.goodreads.com/book/show/2657.To_Ki...</td>\n",
       "      <td>https://i.gr-assets.com/images/S/compressed.ph...</td>\n",
       "    </tr>\n",
       "    <tr>\n",
       "      <th>1</th>\n",
       "      <td>3</td>\n",
       "      <td>Harry Potter and the Sorcerer's Stone</td>\n",
       "      <td>J.K. Rowling</td>\n",
       "      <td>4.47</td>\n",
       "      <td>Fantasy</td>\n",
       "      <td>Harry Potter's life is miserable. His parents ...</td>\n",
       "      <td>https://www.goodreads.com/book/show/3.Harry_Po...</td>\n",
       "      <td>https://i.gr-assets.com/images/S/compressed.ph...</td>\n",
       "    </tr>\n",
       "    <tr>\n",
       "      <th>2</th>\n",
       "      <td>1885</td>\n",
       "      <td>Pride and Prejudice</td>\n",
       "      <td>Jane Austen</td>\n",
       "      <td>4.27</td>\n",
       "      <td>Classics</td>\n",
       "      <td>Alternate cover edition of ISBN 9780679783268S...</td>\n",
       "      <td>https://www.goodreads.com/book/show/1885.Pride...</td>\n",
       "      <td>https://i.gr-assets.com/images/S/compressed.ph...</td>\n",
       "    </tr>\n",
       "    <tr>\n",
       "      <th>3</th>\n",
       "      <td>48855</td>\n",
       "      <td>The Diary of a Young Girl</td>\n",
       "      <td>Anne Frank</td>\n",
       "      <td>4.17</td>\n",
       "      <td>Nonfiction</td>\n",
       "      <td>Discovered in the attic in which she spent the...</td>\n",
       "      <td>https://www.goodreads.com/book/show/48855.The_...</td>\n",
       "      <td>https://i.gr-assets.com/images/S/compressed.ph...</td>\n",
       "    </tr>\n",
       "    <tr>\n",
       "      <th>4</th>\n",
       "      <td>170448</td>\n",
       "      <td>Animal Farm</td>\n",
       "      <td>George Orwell</td>\n",
       "      <td>3.97</td>\n",
       "      <td>Classics</td>\n",
       "      <td>Librarian's note: There is an Alternate Cover ...</td>\n",
       "      <td>https://www.goodreads.com/book/show/170448.Ani...</td>\n",
       "      <td>https://i.gr-assets.com/images/S/compressed.ph...</td>\n",
       "    </tr>\n",
       "  </tbody>\n",
       "</table>\n",
       "</div>"
      ],
      "text/plain": [
       "   book_id                                  title         author  \\\n",
       "0     2657                  To Kill a Mockingbird     Harper Lee   \n",
       "1        3  Harry Potter and the Sorcerer's Stone   J.K. Rowling   \n",
       "2     1885                    Pride and Prejudice    Jane Austen   \n",
       "3    48855              The Diary of a Young Girl     Anne Frank   \n",
       "4   170448                            Animal Farm  George Orwell   \n",
       "\n",
       "   average_rating       genre  \\\n",
       "0            4.27    Classics   \n",
       "1            4.47     Fantasy   \n",
       "2            4.27    Classics   \n",
       "3            4.17  Nonfiction   \n",
       "4            3.97    Classics   \n",
       "\n",
       "                                         description  \\\n",
       "0  The unforgettable novel of a childhood in a sl...   \n",
       "1  Harry Potter's life is miserable. His parents ...   \n",
       "2  Alternate cover edition of ISBN 9780679783268S...   \n",
       "3  Discovered in the attic in which she spent the...   \n",
       "4  Librarian's note: There is an Alternate Cover ...   \n",
       "\n",
       "                                                 url  \\\n",
       "0  https://www.goodreads.com/book/show/2657.To_Ki...   \n",
       "1  https://www.goodreads.com/book/show/3.Harry_Po...   \n",
       "2  https://www.goodreads.com/book/show/1885.Pride...   \n",
       "3  https://www.goodreads.com/book/show/48855.The_...   \n",
       "4  https://www.goodreads.com/book/show/170448.Ani...   \n",
       "\n",
       "                                           image_url  \n",
       "0  https://i.gr-assets.com/images/S/compressed.ph...  \n",
       "1  https://i.gr-assets.com/images/S/compressed.ph...  \n",
       "2  https://i.gr-assets.com/images/S/compressed.ph...  \n",
       "3  https://i.gr-assets.com/images/S/compressed.ph...  \n",
       "4  https://i.gr-assets.com/images/S/compressed.ph...  "
      ]
     },
     "execution_count": 173,
     "metadata": {},
     "output_type": "execute_result"
    }
   ],
   "source": [
    "gh.head()"
   ]
  },
  {
   "cell_type": "code",
   "execution_count": 174,
   "metadata": {},
   "outputs": [],
   "source": [
    "#filterting genres with books more than 100\n",
    "gh=gh.groupby(\"genre\").filter(lambda x: len(x) > 100)"
   ]
  },
  {
   "cell_type": "code",
   "execution_count": 175,
   "metadata": {},
   "outputs": [
    {
     "data": {
      "text/plain": [
       "Fiction            991\n",
       "Nonfiction         497\n",
       "Fantasy            417\n",
       "Classics           337\n",
       "Young Adult        230\n",
       "Historical         203\n",
       "Mystery            157\n",
       "Science Fiction    126\n",
       "Romance            122\n",
       "Horror             107\n",
       "Thriller           106\n",
       "Name: genre, dtype: int64"
      ]
     },
     "execution_count": 175,
     "metadata": {},
     "output_type": "execute_result"
    }
   ],
   "source": [
    "gh['genre'].value_counts()"
   ]
  },
  {
   "cell_type": "code",
   "execution_count": 177,
   "metadata": {},
   "outputs": [
    {
     "data": {
      "text/plain": [
       "array([<AxesSubplot:ylabel='genre'>], dtype=object)"
      ]
     },
     "execution_count": 177,
     "metadata": {},
     "output_type": "execute_result"
    },
    {
     "data": {
      "image/png": "[encoded data removed]",
      "text/plain": [
       "<Figure size 1080x720 with 1 Axes>"
      ]
     },
     "metadata": {},
     "output_type": "display_data"
    }
   ],
   "source": [
    "gh.genre.value_counts().plot(kind='pie', subplots=True, startangle=90,\n",
    "figsize=(15,10), autopct='%1.1f%%')"
   ]
  },
  {
   "cell_type": "code",
   "execution_count": 178,
   "metadata": {},
   "outputs": [
    {
     "data": {
      "text/plain": [
       "<AxesSubplot:title={'center':'Word Count Distribution for book descriptions'}, ylabel='Frequency'>"
      ]
     },
     "execution_count": 178,
     "metadata": {},
     "output_type": "execute_result"
    },
    {
     "data": {
      "image/png": "[encoded data removed]",
      "text/plain": [
       "<Figure size 864x576 with 1 Axes>"
      ]
     },
     "metadata": {
      "needs_background": "light"
     },
     "output_type": "display_data"
    }
   ],
   "source": [
    "#word count based on cleaned text\n",
    "gh['word_count'] = gh['description'].apply(lambda x: len(str(x).split()))# Plotting the word count\n",
    "gh['word_count'].plot(kind='hist',bins = 50,figsize = (12,8),title='Word Count Distribution for book descriptions')"
   ]
  },
  {
   "cell_type": "code",
   "execution_count": null,
   "metadata": {},
   "outputs": [],
   "source": []
  },
  {
   "cell_type": "code",
   "execution_count": 179,
   "metadata": {},
   "outputs": [
    {
     "data": {
      "text/html": [
       "<div>\n",
       "<style scoped>\n",
       "    .dataframe tbody tr th:only-of-type {\n",
       "        vertical-align: middle;\n",
       "    }\n",
       "\n",
       "    .dataframe tbody tr th {\n",
       "        vertical-align: top;\n",
       "    }\n",
       "\n",
       "    .dataframe thead th {\n",
       "        text-align: right;\n",
       "    }\n",
       "</style>\n",
       "<table border=\"1\" class=\"dataframe\">\n",
       "  <thead>\n",
       "    <tr style=\"text-align: right;\">\n",
       "      <th></th>\n",
       "      <th>book_id</th>\n",
       "      <th>title</th>\n",
       "      <th>author</th>\n",
       "      <th>average_rating</th>\n",
       "      <th>genre</th>\n",
       "      <th>description</th>\n",
       "      <th>url</th>\n",
       "      <th>image_url</th>\n",
       "      <th>word_count</th>\n",
       "    </tr>\n",
       "  </thead>\n",
       "  <tbody>\n",
       "    <tr>\n",
       "      <th>0</th>\n",
       "      <td>2657</td>\n",
       "      <td>To Kill a Mockingbird</td>\n",
       "      <td>Harper Lee</td>\n",
       "      <td>4.27</td>\n",
       "      <td>Classics</td>\n",
       "      <td>The unforgettable novel of a childhood in a sl...</td>\n",
       "      <td>https://www.goodreads.com/book/show/2657.To_Ki...</td>\n",
       "      <td>https://i.gr-assets.com/images/S/compressed.ph...</td>\n",
       "      <td>137</td>\n",
       "    </tr>\n",
       "    <tr>\n",
       "      <th>1</th>\n",
       "      <td>3</td>\n",
       "      <td>Harry Potter and the Sorcerer's Stone</td>\n",
       "      <td>J.K. Rowling</td>\n",
       "      <td>4.47</td>\n",
       "      <td>Fantasy</td>\n",
       "      <td>Harry Potter's life is miserable. His parents ...</td>\n",
       "      <td>https://www.goodreads.com/book/show/3.Harry_Po...</td>\n",
       "      <td>https://i.gr-assets.com/images/S/compressed.ph...</td>\n",
       "      <td>220</td>\n",
       "    </tr>\n",
       "    <tr>\n",
       "      <th>2</th>\n",
       "      <td>1885</td>\n",
       "      <td>Pride and Prejudice</td>\n",
       "      <td>Jane Austen</td>\n",
       "      <td>4.27</td>\n",
       "      <td>Classics</td>\n",
       "      <td>Alternate cover edition of ISBN 9780679783268S...</td>\n",
       "      <td>https://www.goodreads.com/book/show/1885.Pride...</td>\n",
       "      <td>https://i.gr-assets.com/images/S/compressed.ph...</td>\n",
       "      <td>100</td>\n",
       "    </tr>\n",
       "    <tr>\n",
       "      <th>3</th>\n",
       "      <td>48855</td>\n",
       "      <td>The Diary of a Young Girl</td>\n",
       "      <td>Anne Frank</td>\n",
       "      <td>4.17</td>\n",
       "      <td>Nonfiction</td>\n",
       "      <td>Discovered in the attic in which she spent the...</td>\n",
       "      <td>https://www.goodreads.com/book/show/48855.The_...</td>\n",
       "      <td>https://i.gr-assets.com/images/S/compressed.ph...</td>\n",
       "      <td>166</td>\n",
       "    </tr>\n",
       "    <tr>\n",
       "      <th>4</th>\n",
       "      <td>170448</td>\n",
       "      <td>Animal Farm</td>\n",
       "      <td>George Orwell</td>\n",
       "      <td>3.97</td>\n",
       "      <td>Classics</td>\n",
       "      <td>Librarian's note: There is an Alternate Cover ...</td>\n",
       "      <td>https://www.goodreads.com/book/show/170448.Ani...</td>\n",
       "      <td>https://i.gr-assets.com/images/S/compressed.ph...</td>\n",
       "      <td>123</td>\n",
       "    </tr>\n",
       "  </tbody>\n",
       "</table>\n",
       "</div>"
      ],
      "text/plain": [
       "   book_id                                  title         author  \\\n",
       "0     2657                  To Kill a Mockingbird     Harper Lee   \n",
       "1        3  Harry Potter and the Sorcerer's Stone   J.K. Rowling   \n",
       "2     1885                    Pride and Prejudice    Jane Austen   \n",
       "3    48855              The Diary of a Young Girl     Anne Frank   \n",
       "4   170448                            Animal Farm  George Orwell   \n",
       "\n",
       "   average_rating       genre  \\\n",
       "0            4.27    Classics   \n",
       "1            4.47     Fantasy   \n",
       "2            4.27    Classics   \n",
       "3            4.17  Nonfiction   \n",
       "4            3.97    Classics   \n",
       "\n",
       "                                         description  \\\n",
       "0  The unforgettable novel of a childhood in a sl...   \n",
       "1  Harry Potter's life is miserable. His parents ...   \n",
       "2  Alternate cover edition of ISBN 9780679783268S...   \n",
       "3  Discovered in the attic in which she spent the...   \n",
       "4  Librarian's note: There is an Alternate Cover ...   \n",
       "\n",
       "                                                 url  \\\n",
       "0  https://www.goodreads.com/book/show/2657.To_Ki...   \n",
       "1  https://www.goodreads.com/book/show/3.Harry_Po...   \n",
       "2  https://www.goodreads.com/book/show/1885.Pride...   \n",
       "3  https://www.goodreads.com/book/show/48855.The_...   \n",
       "4  https://www.goodreads.com/book/show/170448.Ani...   \n",
       "\n",
       "                                           image_url  word_count  \n",
       "0  https://i.gr-assets.com/images/S/compressed.ph...         137  \n",
       "1  https://i.gr-assets.com/images/S/compressed.ph...         220  \n",
       "2  https://i.gr-assets.com/images/S/compressed.ph...         100  \n",
       "3  https://i.gr-assets.com/images/S/compressed.ph...         166  \n",
       "4  https://i.gr-assets.com/images/S/compressed.ph...         123  "
      ]
     },
     "execution_count": 179,
     "metadata": {},
     "output_type": "execute_result"
    }
   ],
   "source": [
    "gh.head()"
   ]
  },
  {
   "cell_type": "code",
   "execution_count": 180,
   "metadata": {},
   "outputs": [
    {
     "data": {
      "text/plain": [
       "<AxesSubplot:>"
      ]
     },
     "execution_count": 180,
     "metadata": {},
     "output_type": "execute_result"
    },
    {
     "data": {
      "image/png": "[encoded data removed]",
      "text/plain": [
       "<Figure size 1080x360 with 1 Axes>"
      ]
     },
     "metadata": {
      "needs_background": "light"
     },
     "output_type": "display_data"
    }
   ],
   "source": [
    "gh['genre'].value_counts().plot(x='genre', y='count', kind='bar', figsize=(15,5))"
   ]
  },
  {
   "cell_type": "code",
   "execution_count": 181,
   "metadata": {},
   "outputs": [
    {
     "data": {
      "text/plain": [
       "<seaborn.axisgrid.FacetGrid at 0x1e535a5a850>"
      ]
     },
     "execution_count": 181,
     "metadata": {},
     "output_type": "execute_result"
    },
    {
     "data": {
      "text/plain": [
       "<Figure size 864x720 with 0 Axes>"
      ]
     },
     "metadata": {},
     "output_type": "display_data"
    },
    {
     "data": {
      "image/png": "[encoded data removed]",
      "text/plain": [
       "<Figure size 360x360 with 1 Axes>"
      ]
     },
     "metadata": {
      "needs_background": "light"
     },
     "output_type": "display_data"
    }
   ],
   "source": [
    "plt.figure(figsize=[12,10])\n",
    "sns.displot(gh['word_count'])"
   ]
  },
  {
   "cell_type": "code",
   "execution_count": 182,
   "metadata": {},
   "outputs": [
    {
     "name": "stdout",
     "output_type": "stream",
     "text": [
      "<class 'pandas.core.frame.DataFrame'>\n",
      "Int64Index: 624 entries, 15 to 4298\n",
      "Data columns (total 9 columns):\n",
      " #   Column          Non-Null Count  Dtype  \n",
      "---  ------          --------------  -----  \n",
      " 0   book_id         624 non-null    int64  \n",
      " 1   title           624 non-null    object \n",
      " 2   author          624 non-null    object \n",
      " 3   average_rating  624 non-null    float64\n",
      " 4   genre           624 non-null    object \n",
      " 5   description     624 non-null    object \n",
      " 6   url             624 non-null    object \n",
      " 7   image_url       624 non-null    object \n",
      " 8   word_count      624 non-null    int64  \n",
      "dtypes: float64(1), int64(2), object(6)\n",
      "memory usage: 48.8+ KB\n"
     ]
    }
   ],
   "source": [
    "gh1 = gh[(gh.genre == 'Fiction') & (gh.word_count <= 160)]\n",
    "gh1.info()"
   ]
  },
  {
   "cell_type": "code",
   "execution_count": 183,
   "metadata": {},
   "outputs": [],
   "source": [
    "# dropping the  rows created in gh1 from the gh column.\n",
    "gh.drop(gh1.index,axis=0,inplace=True)"
   ]
  },
  {
   "cell_type": "code",
   "execution_count": 184,
   "metadata": {},
   "outputs": [
    {
     "data": {
      "text/plain": [
       "(2669, 9)"
      ]
     },
     "execution_count": 184,
     "metadata": {},
     "output_type": "execute_result"
    }
   ],
   "source": [
    "gh.shape"
   ]
  },
  {
   "cell_type": "code",
   "execution_count": 185,
   "metadata": {},
   "outputs": [
    {
     "data": {
      "text/plain": [
       "Nonfiction         497\n",
       "Fantasy            417\n",
       "Fiction            367\n",
       "Classics           337\n",
       "Young Adult        230\n",
       "Historical         203\n",
       "Mystery            157\n",
       "Science Fiction    126\n",
       "Romance            122\n",
       "Horror             107\n",
       "Thriller           106\n",
       "Name: genre, dtype: int64"
      ]
     },
     "execution_count": 185,
     "metadata": {},
     "output_type": "execute_result"
    }
   ],
   "source": [
    "gh['genre'].value_counts()"
   ]
  },
  {
   "cell_type": "code",
   "execution_count": 186,
   "metadata": {},
   "outputs": [],
   "source": [
    "from sklearn import preprocessing\n",
    "le = preprocessing.LabelEncoder()\n",
    "gh['genre_le'] = le.fit_transform(gh.genre)"
   ]
  },
  {
   "cell_type": "code",
   "execution_count": 187,
   "metadata": {},
   "outputs": [
    {
     "data": {
      "text/html": [
       "<div>\n",
       "<style scoped>\n",
       "    .dataframe tbody tr th:only-of-type {\n",
       "        vertical-align: middle;\n",
       "    }\n",
       "\n",
       "    .dataframe tbody tr th {\n",
       "        vertical-align: top;\n",
       "    }\n",
       "\n",
       "    .dataframe thead th {\n",
       "        text-align: right;\n",
       "    }\n",
       "</style>\n",
       "<table border=\"1\" class=\"dataframe\">\n",
       "  <thead>\n",
       "    <tr style=\"text-align: right;\">\n",
       "      <th></th>\n",
       "      <th>book_id</th>\n",
       "      <th>title</th>\n",
       "      <th>author</th>\n",
       "      <th>average_rating</th>\n",
       "      <th>genre</th>\n",
       "      <th>description</th>\n",
       "      <th>url</th>\n",
       "      <th>image_url</th>\n",
       "      <th>word_count</th>\n",
       "      <th>genre_le</th>\n",
       "    </tr>\n",
       "  </thead>\n",
       "  <tbody>\n",
       "    <tr>\n",
       "      <th>0</th>\n",
       "      <td>2657</td>\n",
       "      <td>To Kill a Mockingbird</td>\n",
       "      <td>Harper Lee</td>\n",
       "      <td>4.27</td>\n",
       "      <td>Classics</td>\n",
       "      <td>The unforgettable novel of a childhood in a sl...</td>\n",
       "      <td>https://www.goodreads.com/book/show/2657.To_Ki...</td>\n",
       "      <td>https://i.gr-assets.com/images/S/compressed.ph...</td>\n",
       "      <td>137</td>\n",
       "      <td>0</td>\n",
       "    </tr>\n",
       "    <tr>\n",
       "      <th>1</th>\n",
       "      <td>3</td>\n",
       "      <td>Harry Potter and the Sorcerer's Stone</td>\n",
       "      <td>J.K. Rowling</td>\n",
       "      <td>4.47</td>\n",
       "      <td>Fantasy</td>\n",
       "      <td>Harry Potter's life is miserable. His parents ...</td>\n",
       "      <td>https://www.goodreads.com/book/show/3.Harry_Po...</td>\n",
       "      <td>https://i.gr-assets.com/images/S/compressed.ph...</td>\n",
       "      <td>220</td>\n",
       "      <td>1</td>\n",
       "    </tr>\n",
       "    <tr>\n",
       "      <th>2</th>\n",
       "      <td>1885</td>\n",
       "      <td>Pride and Prejudice</td>\n",
       "      <td>Jane Austen</td>\n",
       "      <td>4.27</td>\n",
       "      <td>Classics</td>\n",
       "      <td>Alternate cover edition of ISBN 9780679783268S...</td>\n",
       "      <td>https://www.goodreads.com/book/show/1885.Pride...</td>\n",
       "      <td>https://i.gr-assets.com/images/S/compressed.ph...</td>\n",
       "      <td>100</td>\n",
       "      <td>0</td>\n",
       "    </tr>\n",
       "    <tr>\n",
       "      <th>3</th>\n",
       "      <td>48855</td>\n",
       "      <td>The Diary of a Young Girl</td>\n",
       "      <td>Anne Frank</td>\n",
       "      <td>4.17</td>\n",
       "      <td>Nonfiction</td>\n",
       "      <td>Discovered in the attic in which she spent the...</td>\n",
       "      <td>https://www.goodreads.com/book/show/48855.The_...</td>\n",
       "      <td>https://i.gr-assets.com/images/S/compressed.ph...</td>\n",
       "      <td>166</td>\n",
       "      <td>6</td>\n",
       "    </tr>\n",
       "    <tr>\n",
       "      <th>4</th>\n",
       "      <td>170448</td>\n",
       "      <td>Animal Farm</td>\n",
       "      <td>George Orwell</td>\n",
       "      <td>3.97</td>\n",
       "      <td>Classics</td>\n",
       "      <td>Librarian's note: There is an Alternate Cover ...</td>\n",
       "      <td>https://www.goodreads.com/book/show/170448.Ani...</td>\n",
       "      <td>https://i.gr-assets.com/images/S/compressed.ph...</td>\n",
       "      <td>123</td>\n",
       "      <td>0</td>\n",
       "    </tr>\n",
       "  </tbody>\n",
       "</table>\n",
       "</div>"
      ],
      "text/plain": [
       "   book_id                                  title         author  \\\n",
       "0     2657                  To Kill a Mockingbird     Harper Lee   \n",
       "1        3  Harry Potter and the Sorcerer's Stone   J.K. Rowling   \n",
       "2     1885                    Pride and Prejudice    Jane Austen   \n",
       "3    48855              The Diary of a Young Girl     Anne Frank   \n",
       "4   170448                            Animal Farm  George Orwell   \n",
       "\n",
       "   average_rating       genre  \\\n",
       "0            4.27    Classics   \n",
       "1            4.47     Fantasy   \n",
       "2            4.27    Classics   \n",
       "3            4.17  Nonfiction   \n",
       "4            3.97    Classics   \n",
       "\n",
       "                                         description  \\\n",
       "0  The unforgettable novel of a childhood in a sl...   \n",
       "1  Harry Potter's life is miserable. His parents ...   \n",
       "2  Alternate cover edition of ISBN 9780679783268S...   \n",
       "3  Discovered in the attic in which she spent the...   \n",
       "4  Librarian's note: There is an Alternate Cover ...   \n",
       "\n",
       "                                                 url  \\\n",
       "0  https://www.goodreads.com/book/show/2657.To_Ki...   \n",
       "1  https://www.goodreads.com/book/show/3.Harry_Po...   \n",
       "2  https://www.goodreads.com/book/show/1885.Pride...   \n",
       "3  https://www.goodreads.com/book/show/48855.The_...   \n",
       "4  https://www.goodreads.com/book/show/170448.Ani...   \n",
       "\n",
       "                                           image_url  word_count  genre_le  \n",
       "0  https://i.gr-assets.com/images/S/compressed.ph...         137         0  \n",
       "1  https://i.gr-assets.com/images/S/compressed.ph...         220         1  \n",
       "2  https://i.gr-assets.com/images/S/compressed.ph...         100         0  \n",
       "3  https://i.gr-assets.com/images/S/compressed.ph...         166         6  \n",
       "4  https://i.gr-assets.com/images/S/compressed.ph...         123         0  "
      ]
     },
     "execution_count": 187,
     "metadata": {},
     "output_type": "execute_result"
    }
   ],
   "source": [
    "gh.head()"
   ]
  },
  {
   "cell_type": "code",
   "execution_count": 188,
   "metadata": {},
   "outputs": [],
   "source": [
    "gh['title'] = gh['title'].str.replace(\" \", \"\")\n",
    "gh['author'] = gh['author'].str.replace(\" \", \"\")"
   ]
  },
  {
   "cell_type": "code",
   "execution_count": 189,
   "metadata": {},
   "outputs": [],
   "source": [
    "gh['tags'] = gh['title'] + \" \" + gh['author'] + \" \" + gh['description']"
   ]
  },
  {
   "cell_type": "code",
   "execution_count": 190,
   "metadata": {},
   "outputs": [
    {
     "data": {
      "text/html": [
       "<div>\n",
       "<style scoped>\n",
       "    .dataframe tbody tr th:only-of-type {\n",
       "        vertical-align: middle;\n",
       "    }\n",
       "\n",
       "    .dataframe tbody tr th {\n",
       "        vertical-align: top;\n",
       "    }\n",
       "\n",
       "    .dataframe thead th {\n",
       "        text-align: right;\n",
       "    }\n",
       "</style>\n",
       "<table border=\"1\" class=\"dataframe\">\n",
       "  <thead>\n",
       "    <tr style=\"text-align: right;\">\n",
       "      <th></th>\n",
       "      <th>book_id</th>\n",
       "      <th>title</th>\n",
       "      <th>author</th>\n",
       "      <th>average_rating</th>\n",
       "      <th>genre</th>\n",
       "      <th>description</th>\n",
       "      <th>url</th>\n",
       "      <th>image_url</th>\n",
       "      <th>word_count</th>\n",
       "      <th>genre_le</th>\n",
       "      <th>tags</th>\n",
       "    </tr>\n",
       "  </thead>\n",
       "  <tbody>\n",
       "    <tr>\n",
       "      <th>0</th>\n",
       "      <td>2657</td>\n",
       "      <td>ToKillaMockingbird</td>\n",
       "      <td>HarperLee</td>\n",
       "      <td>4.27</td>\n",
       "      <td>Classics</td>\n",
       "      <td>The unforgettable novel of a childhood in a sl...</td>\n",
       "      <td>https://www.goodreads.com/book/show/2657.To_Ki...</td>\n",
       "      <td>https://i.gr-assets.com/images/S/compressed.ph...</td>\n",
       "      <td>137</td>\n",
       "      <td>0</td>\n",
       "      <td>ToKillaMockingbird HarperLee The unforgettable...</td>\n",
       "    </tr>\n",
       "    <tr>\n",
       "      <th>1</th>\n",
       "      <td>3</td>\n",
       "      <td>HarryPotterandtheSorcerer'sStone</td>\n",
       "      <td>J.K.Rowling</td>\n",
       "      <td>4.47</td>\n",
       "      <td>Fantasy</td>\n",
       "      <td>Harry Potter's life is miserable. His parents ...</td>\n",
       "      <td>https://www.goodreads.com/book/show/3.Harry_Po...</td>\n",
       "      <td>https://i.gr-assets.com/images/S/compressed.ph...</td>\n",
       "      <td>220</td>\n",
       "      <td>1</td>\n",
       "      <td>HarryPotterandtheSorcerer'sStone J.K.Rowling H...</td>\n",
       "    </tr>\n",
       "    <tr>\n",
       "      <th>2</th>\n",
       "      <td>1885</td>\n",
       "      <td>PrideandPrejudice</td>\n",
       "      <td>JaneAusten</td>\n",
       "      <td>4.27</td>\n",
       "      <td>Classics</td>\n",
       "      <td>Alternate cover edition of ISBN 9780679783268S...</td>\n",
       "      <td>https://www.goodreads.com/book/show/1885.Pride...</td>\n",
       "      <td>https://i.gr-assets.com/images/S/compressed.ph...</td>\n",
       "      <td>100</td>\n",
       "      <td>0</td>\n",
       "      <td>PrideandPrejudice JaneAusten Alternate cover e...</td>\n",
       "    </tr>\n",
       "    <tr>\n",
       "      <th>3</th>\n",
       "      <td>48855</td>\n",
       "      <td>TheDiaryofaYoungGirl</td>\n",
       "      <td>AnneFrank</td>\n",
       "      <td>4.17</td>\n",
       "      <td>Nonfiction</td>\n",
       "      <td>Discovered in the attic in which she spent the...</td>\n",
       "      <td>https://www.goodreads.com/book/show/48855.The_...</td>\n",
       "      <td>https://i.gr-assets.com/images/S/compressed.ph...</td>\n",
       "      <td>166</td>\n",
       "      <td>6</td>\n",
       "      <td>TheDiaryofaYoungGirl AnneFrank Discovered in t...</td>\n",
       "    </tr>\n",
       "    <tr>\n",
       "      <th>4</th>\n",
       "      <td>170448</td>\n",
       "      <td>AnimalFarm</td>\n",
       "      <td>GeorgeOrwell</td>\n",
       "      <td>3.97</td>\n",
       "      <td>Classics</td>\n",
       "      <td>Librarian's note: There is an Alternate Cover ...</td>\n",
       "      <td>https://www.goodreads.com/book/show/170448.Ani...</td>\n",
       "      <td>https://i.gr-assets.com/images/S/compressed.ph...</td>\n",
       "      <td>123</td>\n",
       "      <td>0</td>\n",
       "      <td>AnimalFarm GeorgeOrwell Librarian's note: Ther...</td>\n",
       "    </tr>\n",
       "  </tbody>\n",
       "</table>\n",
       "</div>"
      ],
      "text/plain": [
       "   book_id                             title        author  average_rating  \\\n",
       "0     2657                ToKillaMockingbird     HarperLee            4.27   \n",
       "1        3  HarryPotterandtheSorcerer'sStone   J.K.Rowling            4.47   \n",
       "2     1885                 PrideandPrejudice    JaneAusten            4.27   \n",
       "3    48855              TheDiaryofaYoungGirl     AnneFrank            4.17   \n",
       "4   170448                        AnimalFarm  GeorgeOrwell            3.97   \n",
       "\n",
       "        genre                                        description  \\\n",
       "0    Classics  The unforgettable novel of a childhood in a sl...   \n",
       "1     Fantasy  Harry Potter's life is miserable. His parents ...   \n",
       "2    Classics  Alternate cover edition of ISBN 9780679783268S...   \n",
       "3  Nonfiction  Discovered in the attic in which she spent the...   \n",
       "4    Classics  Librarian's note: There is an Alternate Cover ...   \n",
       "\n",
       "                                                 url  \\\n",
       "0  https://www.goodreads.com/book/show/2657.To_Ki...   \n",
       "1  https://www.goodreads.com/book/show/3.Harry_Po...   \n",
       "2  https://www.goodreads.com/book/show/1885.Pride...   \n",
       "3  https://www.goodreads.com/book/show/48855.The_...   \n",
       "4  https://www.goodreads.com/book/show/170448.Ani...   \n",
       "\n",
       "                                           image_url  word_count  genre_le  \\\n",
       "0  https://i.gr-assets.com/images/S/compressed.ph...         137         0   \n",
       "1  https://i.gr-assets.com/images/S/compressed.ph...         220         1   \n",
       "2  https://i.gr-assets.com/images/S/compressed.ph...         100         0   \n",
       "3  https://i.gr-assets.com/images/S/compressed.ph...         166         6   \n",
       "4  https://i.gr-assets.com/images/S/compressed.ph...         123         0   \n",
       "\n",
       "                                                tags  \n",
       "0  ToKillaMockingbird HarperLee The unforgettable...  \n",
       "1  HarryPotterandtheSorcerer'sStone J.K.Rowling H...  \n",
       "2  PrideandPrejudice JaneAusten Alternate cover e...  \n",
       "3  TheDiaryofaYoungGirl AnneFrank Discovered in t...  \n",
       "4  AnimalFarm GeorgeOrwell Librarian's note: Ther...  "
      ]
     },
     "execution_count": 190,
     "metadata": {},
     "output_type": "execute_result"
    }
   ],
   "source": [
    "gh.head()"
   ]
  },
  {
   "cell_type": "code",
   "execution_count": 191,
   "metadata": {},
   "outputs": [
    {
     "data": {
      "text/plain": [
       "'!\"#$%&\\'()*+,-./:;<=>?@[\\\\]^_`{|}~'"
      ]
     },
     "execution_count": 191,
     "metadata": {},
     "output_type": "execute_result"
    }
   ],
   "source": [
    "from nltk.stem.porter import PorterStemmer\n",
    "ps = PorterStemmer()\n",
    "\n",
    "import nltk\n",
    "from nltk.corpus import stopwords\n",
    "stopwords.words('english')\n",
    "\n",
    "import re\n",
    "\n",
    "import string\n",
    "string.punctuation"
   ]
  },
  {
   "cell_type": "code",
   "execution_count": 192,
   "metadata": {},
   "outputs": [],
   "source": [
    "def cleaned_text(content):\n",
    "    #removing everything other than alphabets and numbers with spaces\n",
    "    content = re.sub('\\W+', ' ', content)\n",
    "    \n",
    "    #lowercase\n",
    "    content=content.lower()\n",
    "    \n",
    "    # separating sentences in word\n",
    "    content=nltk.word_tokenize(content)\n",
    "    \n",
    "    wrd=[]\n",
    "    #removing stopwords and punctuations       \n",
    "    for i in content:\n",
    "        if i not in stopwords.words('english') and i not in string.punctuation:\n",
    "            wrd.append(i)\n",
    "            \n",
    "    content = wrd[:]\n",
    "    wrd.clear()\n",
    "    \n",
    "   #stemming \n",
    "    for i in content:\n",
    "        wrd.append(ps.stem(i))\n",
    "    \n",
    "    return \" \".join(wrd)"
   ]
  },
  {
   "cell_type": "code",
   "execution_count": 193,
   "metadata": {},
   "outputs": [
    {
     "data": {
      "text/plain": [
       "'librarian note altern cover edit found hereit 1939 nazi germani countri hold breath death never busier busier still brother gravesid liesel life chang pick singl object partial hidden snow gravedigg handbook left behind accid f librarian note altern cover edit found hereit 1939 nazi germani countri hold breath death never busier busier still brother gravesid liesel life chang pick singl object partial hidden snow gravedigg handbook left behind accid first act book thieveri begin love affair book word liesel help accordian play foster father learn read soon steal book nazi book burn mayor wife librari wherev book found danger time liesel foster famili hide jew basement liesel world open close superbl craft write burn intens award win author marku zusak given us one endur stori time note titl publish ya fiction'"
      ]
     },
     "execution_count": 193,
     "metadata": {},
     "output_type": "execute_result"
    }
   ],
   "source": [
    "cleaned_text(\"Librarian's note: An alternate cover edition can be found hereIt is 1939. Nazi Germany. The country is holding its breath. Death has never been busier, and will be busier still.By her brother's graveside, Liesel's life is changed when she picks up a single object, partially hidden in the snow. It is The Gravedigger's Handbook, left behind there by accident, and it is her f\\r\\nLibrarian's note: An alternate cover edition can be found hereIt is 1939. Nazi Germany. The country is holding its breath. Death has never been busier, and will be busier still.By her brother's graveside, Liesel's life is changed when she picks up a single object, partially hidden in the snow. It is The Gravedigger's Handbook, left behind there by accident, and it is her first act of book thievery. So begins a love affair with books and words, as Liesel, with the help of her accordian-playing foster father, learns to read. Soon she is stealing books from Nazi book-burnings, the mayor's wife's library, wherever there are books to be found.But these are dangerous times. When Liesel's foster family hides a Jew in their basement, Liesel's world is both opened up, and closed down.In superbly crafted writing that burns with intensity, award-winning author Markus Zusak has given us one of the most enduring stories of our time.(Note: this title was not published as YA fiction)\\r\\n...more\")"
   ]
  },
  {
   "cell_type": "code",
   "execution_count": 194,
   "metadata": {},
   "outputs": [],
   "source": [
    "gh['tags'] = gh['tags'].apply(cleaned_text)"
   ]
  },
  {
   "cell_type": "code",
   "execution_count": 195,
   "metadata": {},
   "outputs": [
    {
     "data": {
      "text/plain": [
       "0       tokillamockingbird harperle unforgett novel ch...\n",
       "1       harrypotterandthesorcer sstone j k rowl harri ...\n",
       "2       prideandprejudic janeausten altern cover edit ...\n",
       "3       thediaryofayounggirl annefrank discov attic sp...\n",
       "4       animalfarm georgeorwel librarian note altern c...\n",
       "                              ...                        \n",
       "4299    noblebegin l ryan ace asin b009k8rhnqin march ...\n",
       "4300    everneath brodiashton last spring nikki becket...\n",
       "4301    endofwatch stephenk spectacular final new york...\n",
       "4302    salvagethebon jesmynward winner 2011 nation bo...\n",
       "4303    redsparrow jasonmatthew grand spi tale tradit ...\n",
       "Name: tags, Length: 2669, dtype: object"
      ]
     },
     "execution_count": 195,
     "metadata": {},
     "output_type": "execute_result"
    }
   ],
   "source": [
    "gh['tags']"
   ]
  },
  {
   "cell_type": "code",
   "execution_count": 196,
   "metadata": {},
   "outputs": [],
   "source": [
    "X = pd.DataFrame(gh['tags']).reset_index(drop=True)"
   ]
  },
  {
   "cell_type": "code",
   "execution_count": 197,
   "metadata": {},
   "outputs": [
    {
     "data": {
      "text/html": [
       "<div>\n",
       "<style scoped>\n",
       "    .dataframe tbody tr th:only-of-type {\n",
       "        vertical-align: middle;\n",
       "    }\n",
       "\n",
       "    .dataframe tbody tr th {\n",
       "        vertical-align: top;\n",
       "    }\n",
       "\n",
       "    .dataframe thead th {\n",
       "        text-align: right;\n",
       "    }\n",
       "</style>\n",
       "<table border=\"1\" class=\"dataframe\">\n",
       "  <thead>\n",
       "    <tr style=\"text-align: right;\">\n",
       "      <th></th>\n",
       "      <th>tags</th>\n",
       "    </tr>\n",
       "  </thead>\n",
       "  <tbody>\n",
       "    <tr>\n",
       "      <th>0</th>\n",
       "      <td>tokillamockingbird harperle unforgett novel ch...</td>\n",
       "    </tr>\n",
       "    <tr>\n",
       "      <th>1</th>\n",
       "      <td>harrypotterandthesorcer sstone j k rowl harri ...</td>\n",
       "    </tr>\n",
       "    <tr>\n",
       "      <th>2</th>\n",
       "      <td>prideandprejudic janeausten altern cover edit ...</td>\n",
       "    </tr>\n",
       "    <tr>\n",
       "      <th>3</th>\n",
       "      <td>thediaryofayounggirl annefrank discov attic sp...</td>\n",
       "    </tr>\n",
       "    <tr>\n",
       "      <th>4</th>\n",
       "      <td>animalfarm georgeorwel librarian note altern c...</td>\n",
       "    </tr>\n",
       "    <tr>\n",
       "      <th>...</th>\n",
       "      <td>...</td>\n",
       "    </tr>\n",
       "    <tr>\n",
       "      <th>2664</th>\n",
       "      <td>noblebegin l ryan ace asin b009k8rhnqin march ...</td>\n",
       "    </tr>\n",
       "    <tr>\n",
       "      <th>2665</th>\n",
       "      <td>everneath brodiashton last spring nikki becket...</td>\n",
       "    </tr>\n",
       "    <tr>\n",
       "      <th>2666</th>\n",
       "      <td>endofwatch stephenk spectacular final new york...</td>\n",
       "    </tr>\n",
       "    <tr>\n",
       "      <th>2667</th>\n",
       "      <td>salvagethebon jesmynward winner 2011 nation bo...</td>\n",
       "    </tr>\n",
       "    <tr>\n",
       "      <th>2668</th>\n",
       "      <td>redsparrow jasonmatthew grand spi tale tradit ...</td>\n",
       "    </tr>\n",
       "  </tbody>\n",
       "</table>\n",
       "<p>2669 rows × 1 columns</p>\n",
       "</div>"
      ],
      "text/plain": [
       "                                                   tags\n",
       "0     tokillamockingbird harperle unforgett novel ch...\n",
       "1     harrypotterandthesorcer sstone j k rowl harri ...\n",
       "2     prideandprejudic janeausten altern cover edit ...\n",
       "3     thediaryofayounggirl annefrank discov attic sp...\n",
       "4     animalfarm georgeorwel librarian note altern c...\n",
       "...                                                 ...\n",
       "2664  noblebegin l ryan ace asin b009k8rhnqin march ...\n",
       "2665  everneath brodiashton last spring nikki becket...\n",
       "2666  endofwatch stephenk spectacular final new york...\n",
       "2667  salvagethebon jesmynward winner 2011 nation bo...\n",
       "2668  redsparrow jasonmatthew grand spi tale tradit ...\n",
       "\n",
       "[2669 rows x 1 columns]"
      ]
     },
     "execution_count": 197,
     "metadata": {},
     "output_type": "execute_result"
    }
   ],
   "source": [
    "X"
   ]
  },
  {
   "cell_type": "code",
   "execution_count": 198,
   "metadata": {},
   "outputs": [],
   "source": [
    "y = gh['genre_le'].reset_index(drop=True)"
   ]
  },
  {
   "cell_type": "code",
   "execution_count": 199,
   "metadata": {},
   "outputs": [
    {
     "data": {
      "text/plain": [
       "0        0\n",
       "1        1\n",
       "2        0\n",
       "3        6\n",
       "4        0\n",
       "        ..\n",
       "2664     9\n",
       "2665    10\n",
       "2666     4\n",
       "2667     2\n",
       "2668     2\n",
       "Name: genre_le, Length: 2669, dtype: int32"
      ]
     },
     "execution_count": 199,
     "metadata": {},
     "output_type": "execute_result"
    }
   ],
   "source": [
    "y"
   ]
  },
  {
   "cell_type": "code",
   "execution_count": 200,
   "metadata": {},
   "outputs": [],
   "source": [
    "from imblearn.over_sampling import RandomOverSampler\n",
    "from imblearn.under_sampling import RandomUnderSampler"
   ]
  },
  {
   "cell_type": "code",
   "execution_count": 201,
   "metadata": {},
   "outputs": [],
   "source": [
    "#performing oversampling on all genres except genre class  2\n",
    "strategy = {0:400, 1:400, 2:598, 3:400, 4:400, 5:400,6:400}\n",
    "ovrsam = RandomOverSampler(sampling_strategy = strategy)"
   ]
  },
  {
   "cell_type": "code",
   "execution_count": 202,
   "metadata": {},
   "outputs": [
    {
     "ename": "ValueError",
     "evalue": "With over-sampling methods, the number of samples in a class should be greater or equal to the original number of samples. Originally, there is 417 samples and 400 samples are asked.",
     "output_type": "error",
     "traceback": [
      "\u001b[1;31m---------------------------------------------------------------------------\u001b[0m",
      "\u001b[1;31mValueError\u001b[0m                                Traceback (most recent call last)",
      "\u001b[1;32m<ipython-input-202-5fcf0338f765>\u001b[0m in \u001b[0;36m<module>\u001b[1;34m\u001b[0m\n\u001b[1;32m----> 1\u001b[1;33m \u001b[0mX_rs\u001b[0m\u001b[1;33m,\u001b[0m \u001b[0my_rs\u001b[0m \u001b[1;33m=\u001b[0m \u001b[0movrsam\u001b[0m\u001b[1;33m.\u001b[0m\u001b[0mfit_resample\u001b[0m\u001b[1;33m(\u001b[0m\u001b[0mX\u001b[0m\u001b[1;33m,\u001b[0m\u001b[0my\u001b[0m\u001b[1;33m)\u001b[0m\u001b[1;33m\u001b[0m\u001b[1;33m\u001b[0m\u001b[0m\n\u001b[0m",
      "\u001b[1;32m~\\anaconda3\\lib\\site-packages\\imblearn\\base.py\u001b[0m in \u001b[0;36mfit_resample\u001b[1;34m(self, X, y)\u001b[0m\n\u001b[0;32m     77\u001b[0m         \u001b[0mX\u001b[0m\u001b[1;33m,\u001b[0m \u001b[0my\u001b[0m\u001b[1;33m,\u001b[0m \u001b[0mbinarize_y\u001b[0m \u001b[1;33m=\u001b[0m \u001b[0mself\u001b[0m\u001b[1;33m.\u001b[0m\u001b[0m_check_X_y\u001b[0m\u001b[1;33m(\u001b[0m\u001b[0mX\u001b[0m\u001b[1;33m,\u001b[0m \u001b[0my\u001b[0m\u001b[1;33m)\u001b[0m\u001b[1;33m\u001b[0m\u001b[1;33m\u001b[0m\u001b[0m\n\u001b[0;32m     78\u001b[0m \u001b[1;33m\u001b[0m\u001b[0m\n\u001b[1;32m---> 79\u001b[1;33m         self.sampling_strategy_ = check_sampling_strategy(\n\u001b[0m\u001b[0;32m     80\u001b[0m             \u001b[0mself\u001b[0m\u001b[1;33m.\u001b[0m\u001b[0msampling_strategy\u001b[0m\u001b[1;33m,\u001b[0m \u001b[0my\u001b[0m\u001b[1;33m,\u001b[0m \u001b[0mself\u001b[0m\u001b[1;33m.\u001b[0m\u001b[0m_sampling_type\u001b[0m\u001b[1;33m\u001b[0m\u001b[1;33m\u001b[0m\u001b[0m\n\u001b[0;32m     81\u001b[0m         )\n",
      "\u001b[1;32m~\\anaconda3\\lib\\site-packages\\imblearn\\utils\\_validation.py\u001b[0m in \u001b[0;36mcheck_sampling_strategy\u001b[1;34m(sampling_strategy, y, sampling_type, **kwargs)\u001b[0m\n\u001b[0;32m    519\u001b[0m     \u001b[1;32melif\u001b[0m \u001b[0misinstance\u001b[0m\u001b[1;33m(\u001b[0m\u001b[0msampling_strategy\u001b[0m\u001b[1;33m,\u001b[0m \u001b[0mdict\u001b[0m\u001b[1;33m)\u001b[0m\u001b[1;33m:\u001b[0m\u001b[1;33m\u001b[0m\u001b[1;33m\u001b[0m\u001b[0m\n\u001b[0;32m    520\u001b[0m         return OrderedDict(\n\u001b[1;32m--> 521\u001b[1;33m             \u001b[0msorted\u001b[0m\u001b[1;33m(\u001b[0m\u001b[0m_sampling_strategy_dict\u001b[0m\u001b[1;33m(\u001b[0m\u001b[0msampling_strategy\u001b[0m\u001b[1;33m,\u001b[0m \u001b[0my\u001b[0m\u001b[1;33m,\u001b[0m \u001b[0msampling_type\u001b[0m\u001b[1;33m)\u001b[0m\u001b[1;33m.\u001b[0m\u001b[0mitems\u001b[0m\u001b[1;33m(\u001b[0m\u001b[1;33m)\u001b[0m\u001b[1;33m)\u001b[0m\u001b[1;33m\u001b[0m\u001b[1;33m\u001b[0m\u001b[0m\n\u001b[0m\u001b[0;32m    522\u001b[0m         )\n\u001b[0;32m    523\u001b[0m     \u001b[1;32melif\u001b[0m \u001b[0misinstance\u001b[0m\u001b[1;33m(\u001b[0m\u001b[0msampling_strategy\u001b[0m\u001b[1;33m,\u001b[0m \u001b[0mlist\u001b[0m\u001b[1;33m)\u001b[0m\u001b[1;33m:\u001b[0m\u001b[1;33m\u001b[0m\u001b[1;33m\u001b[0m\u001b[0m\n",
      "\u001b[1;32m~\\anaconda3\\lib\\site-packages\\imblearn\\utils\\_validation.py\u001b[0m in \u001b[0;36m_sampling_strategy_dict\u001b[1;34m(sampling_strategy, y, sampling_type)\u001b[0m\n\u001b[0;32m    289\u001b[0m         \u001b[1;32mfor\u001b[0m \u001b[0mclass_sample\u001b[0m\u001b[1;33m,\u001b[0m \u001b[0mn_samples\u001b[0m \u001b[1;32min\u001b[0m \u001b[0msampling_strategy\u001b[0m\u001b[1;33m.\u001b[0m\u001b[0mitems\u001b[0m\u001b[1;33m(\u001b[0m\u001b[1;33m)\u001b[0m\u001b[1;33m:\u001b[0m\u001b[1;33m\u001b[0m\u001b[1;33m\u001b[0m\u001b[0m\n\u001b[0;32m    290\u001b[0m             \u001b[1;32mif\u001b[0m \u001b[0mn_samples\u001b[0m \u001b[1;33m<\u001b[0m \u001b[0mtarget_stats\u001b[0m\u001b[1;33m[\u001b[0m\u001b[0mclass_sample\u001b[0m\u001b[1;33m]\u001b[0m\u001b[1;33m:\u001b[0m\u001b[1;33m\u001b[0m\u001b[1;33m\u001b[0m\u001b[0m\n\u001b[1;32m--> 291\u001b[1;33m                 raise ValueError(\n\u001b[0m\u001b[0;32m    292\u001b[0m                     \u001b[1;34mf\"With over-sampling methods, the number\"\u001b[0m\u001b[1;33m\u001b[0m\u001b[1;33m\u001b[0m\u001b[0m\n\u001b[0;32m    293\u001b[0m                     \u001b[1;34mf\" of samples in a class should be greater\"\u001b[0m\u001b[1;33m\u001b[0m\u001b[1;33m\u001b[0m\u001b[0m\n",
      "\u001b[1;31mValueError\u001b[0m: With over-sampling methods, the number of samples in a class should be greater or equal to the original number of samples. Originally, there is 417 samples and 400 samples are asked."
     ]
    }
   ],
   "source": [
    "X_rs, y_rs = ovrsam.fit_resample(X,y)"
   ]
  },
  {
   "cell_type": "code",
   "execution_count": 203,
   "metadata": {},
   "outputs": [],
   "source": [
    "#performing undersampling on class 2\n",
    "strategy = {0:400, 1:400, 2:400, 3:400, 4:400,5:400,6:400}\n",
    "udrsam = RandomUnderSampler(sampling_strategy = strategy)"
   ]
  },
  {
   "cell_type": "code",
   "execution_count": 204,
   "metadata": {},
   "outputs": [],
   "source": [
    "X_res, y_res = udrsam.fit_resample(X_rs,y_rs)"
   ]
  },
  {
   "cell_type": "code",
   "execution_count": 205,
   "metadata": {},
   "outputs": [
    {
     "name": "stdout",
     "output_type": "stream",
     "text": [
      "Counter({0: 400, 1: 400, 2: 400, 3: 400, 4: 400, 5: 400, 6: 400})\n"
     ]
    }
   ],
   "source": [
    "from collections import Counter\n",
    "print(Counter(y_res))"
   ]
  },
  {
   "cell_type": "code",
   "execution_count": 206,
   "metadata": {},
   "outputs": [
    {
     "data": {
      "text/plain": [
       "<AxesSubplot:>"
      ]
     },
     "execution_count": 206,
     "metadata": {},
     "output_type": "execute_result"
    },
    {
     "data": {
      "image/png": "[encoded data removed]",
      "text/plain": [
       "<Figure size 432x288 with 1 Axes>"
      ]
     },
     "metadata": {
      "needs_background": "light"
     },
     "output_type": "display_data"
    }
   ],
   "source": [
    "y_res.value_counts().plot(x='y_res',y = 'count',kind = 'bar')"
   ]
  },
  {
   "cell_type": "code",
   "execution_count": 207,
   "metadata": {},
   "outputs": [],
   "source": [
    "from sklearn.feature_extraction.text import CountVectorizer,TfidfVectorizer\n",
    "cv = CountVectorizer(max_features = 10000)"
   ]
  },
  {
   "cell_type": "code",
   "execution_count": 208,
   "metadata": {},
   "outputs": [],
   "source": [
    "Xa = cv.fit_transform(X_res['tags']).toarray()"
   ]
  },
  {
   "cell_type": "code",
   "execution_count": 209,
   "metadata": {},
   "outputs": [
    {
     "data": {
      "text/plain": [
       "(2800, 10000)"
      ]
     },
     "execution_count": 209,
     "metadata": {},
     "output_type": "execute_result"
    }
   ],
   "source": [
    "Xa.shape"
   ]
  },
  {
   "cell_type": "code",
   "execution_count": 210,
   "metadata": {},
   "outputs": [],
   "source": [
    "ya = y_res.values"
   ]
  },
  {
   "cell_type": "code",
   "execution_count": 211,
   "metadata": {},
   "outputs": [
    {
     "data": {
      "text/plain": [
       "(2800,)"
      ]
     },
     "execution_count": 211,
     "metadata": {},
     "output_type": "execute_result"
    }
   ],
   "source": [
    "ya.shape"
   ]
  },
  {
   "cell_type": "code",
   "execution_count": null,
   "metadata": {},
   "outputs": [],
   "source": []
  },
  {
   "cell_type": "code",
   "execution_count": 212,
   "metadata": {},
   "outputs": [],
   "source": [
    "from sklearn.model_selection import train_test_split\n",
    "X_train,X_test,y_train,y_test = train_test_split(Xa,ya,test_size = .25)"
   ]
  },
  {
   "cell_type": "code",
   "execution_count": 213,
   "metadata": {},
   "outputs": [],
   "source": [
    "# Creating empty lists to store model training time, model predicting time, model accuracy scores, model precision scores.\n",
    "training_time = []\n",
    "predicting_time = []\n",
    "test_accuracy_scores = []\n",
    "train_accuracy_scores = []\n",
    "precision_scores = []\n",
    "recall_scores = []\n",
    "f1_scores = []"
   ]
  },
  {
   "cell_type": "code",
   "execution_count": 214,
   "metadata": {},
   "outputs": [
    {
     "data": {
      "text/plain": [
       "<function list.clear()>"
      ]
     },
     "execution_count": 214,
     "metadata": {},
     "output_type": "execute_result"
    }
   ],
   "source": [
    "training_time.clear\n",
    "predicting_time.clear\n",
    "test_accuracy_scores.clear\n",
    "train_accuracy_scores.clear\n",
    "precision_scores.clear\n",
    "recall_scores.clear\n",
    "f1_scores.clear"
   ]
  },
  {
   "cell_type": "code",
   "execution_count": 215,
   "metadata": {},
   "outputs": [],
   "source": [
    "from sklearn.naive_bayes import GaussianNB,MultinomialNB\n",
    "from sklearn.metrics import accuracy_score,confusion_matrix,precision_score,classification_report\n",
    "from time import time"
   ]
  },
  {
   "cell_type": "markdown",
   "metadata": {},
   "source": [
    "# NAIVE BAYES"
   ]
  },
  {
   "cell_type": "code",
   "execution_count": 216,
   "metadata": {},
   "outputs": [],
   "source": [
    "gnb = GaussianNB()\n",
    "mnb = MultinomialNB(alpha=0.5)"
   ]
  },
  {
   "cell_type": "code",
   "execution_count": 217,
   "metadata": {},
   "outputs": [
    {
     "name": "stdout",
     "output_type": "stream",
     "text": [
      "\n",
      "Training time: 0.429 s\n",
      "\n",
      "\n",
      "Accuracy Score for training data:  0.9976190476190476\n",
      "\n",
      "Predicting time: 0.44 s\n",
      "\n",
      "\n",
      "Accuracy Score for test data: 0.7557142857142857\n",
      "\n",
      "confusion matrix:\n",
      " [[ 47   6  35   2   2  14   0]\n",
      " [  1  70  15   2   1   8   2]\n",
      " [  1   1  59   1   0  21   1]\n",
      " [  2   0   7  75   0  10   0]\n",
      " [  0   0   3   0 114   3   0]\n",
      " [  2   1  19   0   0  80   0]\n",
      " [  0   1   8   0   0   2  84]]\n",
      "\n",
      "precision score: 0.8165276772907342\n",
      "              precision    recall  f1-score   support\n",
      "\n",
      "           0       0.89      0.44      0.59       106\n",
      "           1       0.89      0.71      0.79        99\n",
      "           2       0.40      0.70      0.51        84\n",
      "           3       0.94      0.80      0.86        94\n",
      "           4       0.97      0.95      0.96       120\n",
      "           5       0.58      0.78      0.67       102\n",
      "           6       0.97      0.88      0.92        95\n",
      "\n",
      "    accuracy                           0.76       700\n",
      "   macro avg       0.80      0.75      0.76       700\n",
      "weighted avg       0.82      0.76      0.77       700\n",
      "\n"
     ]
    }
   ],
   "source": [
    "tt = time()\n",
    "gnb.fit(X_train,y_train)\n",
    "print(\"\\nTraining time:\", round(time()-tt, 3), \"s\\n\")\n",
    "training_time.append(round(time()-tt, 3))\n",
    "train_pred1 = gnb.predict(X_train)\n",
    "print('\\nAccuracy Score for training data: ',accuracy_score(y_train,train_pred1))\n",
    "train_accuracy_scores.append(accuracy_score(y_train,train_pred1))\n",
    "\n",
    "pt = time()\n",
    "f_pred1 = gnb.predict(X_test)\n",
    "print(\"\\nPredicting time:\", round(time()-pt, 3), \"s\\n\")\n",
    "predicting_time.append(round(time()-pt, 3))\n",
    "print('\\nAccuracy Score for test data:',accuracy_score(y_test,f_pred1))\n",
    "print('\\nconfusion matrix:\\n',confusion_matrix(y_test,f_pred1))\n",
    "print('\\nprecision score:',precision_score(y_test,f_pred1,average='weighted'))\n",
    "print(classification_report(y_test, f_pred1))\n",
    "test_accuracy_scores.append(accuracy_score(y_test,f_pred1))\n",
    "precision_scores.append(precision_score(y_test,f_pred1,average='weighted'))"
   ]
  },
  {
   "cell_type": "code",
   "execution_count": 218,
   "metadata": {},
   "outputs": [
    {
     "name": "stdout",
     "output_type": "stream",
     "text": [
      "\n",
      "Training time: 0.917 s\n",
      "\n",
      "\n",
      "Accuracy Score for training data:  0.99\n",
      "\n",
      "Predicting time: 0.021 s\n",
      "\n",
      "\n",
      "Accuracy Score for test data: 0.8571428571428571\n",
      "\n",
      "confusion matrix:\n",
      " [[ 73   1  23   1   0   7   1]\n",
      " [  0  87   2   0   0   2   8]\n",
      " [  2   3  63   4   1  11   0]\n",
      " [  0   0  11  80   0   3   0]\n",
      " [  0   0   1   0 117   0   2]\n",
      " [  3   1   7   0   1  90   0]\n",
      " [  0   1   3   0   0   1  90]]\n",
      "\n",
      "precision score: 0.8736581214123413\n",
      "              precision    recall  f1-score   support\n",
      "\n",
      "           0       0.94      0.69      0.79       106\n",
      "           1       0.94      0.88      0.91        99\n",
      "           2       0.57      0.75      0.65        84\n",
      "           3       0.94      0.85      0.89        94\n",
      "           4       0.98      0.97      0.98       120\n",
      "           5       0.79      0.88      0.83       102\n",
      "           6       0.89      0.95      0.92        95\n",
      "\n",
      "    accuracy                           0.86       700\n",
      "   macro avg       0.86      0.85      0.85       700\n",
      "weighted avg       0.87      0.86      0.86       700\n",
      "\n"
     ]
    }
   ],
   "source": [
    "tt = time()\n",
    "mnb.fit(X_train,y_train)\n",
    "print(\"\\nTraining time:\", round(time()-tt, 3), \"s\\n\")\n",
    "training_time.append(round(time()-tt, 3))\n",
    "train_pred2 = mnb.predict(X_train)\n",
    "print('\\nAccuracy Score for training data: ',accuracy_score(y_train,train_pred2))\n",
    "train_accuracy_scores.append(accuracy_score(y_train,train_pred2))\n",
    "\n",
    "pt = time()\n",
    "f_pred2 = mnb.predict(X_test)\n",
    "print(\"\\nPredicting time:\", round(time()-pt, 3), \"s\\n\")\n",
    "predicting_time.append(round(time()-pt, 3))\n",
    "print('\\nAccuracy Score for test data:',accuracy_score(y_test,f_pred2))\n",
    "print('\\nconfusion matrix:\\n',confusion_matrix(y_test,f_pred2))\n",
    "print('\\nprecision score:',precision_score(y_test,f_pred2,average='weighted'))\n",
    "print(classification_report(y_test, f_pred2))\n",
    "test_accuracy_scores.append(accuracy_score(y_test,f_pred2))\n",
    "precision_scores.append(precision_score(y_test,f_pred2,average='weighted'))"
   ]
  },
  {
   "cell_type": "markdown",
   "metadata": {},
   "source": [
    "# SVM"
   ]
  },
  {
   "cell_type": "code",
   "execution_count": 219,
   "metadata": {},
   "outputs": [
    {
     "name": "stdout",
     "output_type": "stream",
     "text": [
      "\n",
      "Training time: 17.833 s\n",
      "\n",
      "\n",
      "Accuracy Score for training data:  1.0\n",
      "\n",
      "Predicting time: 4.375 s\n",
      "\n",
      "\n",
      "Accuracy Score for test data: 0.8157142857142857\n",
      "\n",
      "confusion matrix:\n",
      " [[ 82   7   7   0   0   8   2]\n",
      " [  1  87   4   0   0   0   7]\n",
      " [ 10  13  40   5   2  12   2]\n",
      " [  5   0   5  80   0   2   2]\n",
      " [  0   0   1   0 119   0   0]\n",
      " [  8   4   7   5   0  76   2]\n",
      " [  2   2   2   1   0   1  87]]\n",
      "\n",
      "precision score: 0.8108544927990631\n",
      "              precision    recall  f1-score   support\n",
      "\n",
      "           0       0.76      0.77      0.77       106\n",
      "           1       0.77      0.88      0.82        99\n",
      "           2       0.61      0.48      0.53        84\n",
      "           3       0.88      0.85      0.86        94\n",
      "           4       0.98      0.99      0.99       120\n",
      "           5       0.77      0.75      0.76       102\n",
      "           6       0.85      0.92      0.88        95\n",
      "\n",
      "    accuracy                           0.82       700\n",
      "   macro avg       0.80      0.80      0.80       700\n",
      "weighted avg       0.81      0.82      0.81       700\n",
      "\n"
     ]
    }
   ],
   "source": [
    "from sklearn import svm\n",
    "from sklearn.svm import SVC\n",
    "tt = time()\n",
    "SVM_model = svm.SVC(C=1.0, kernel='linear', degree=3, gamma='auto')\n",
    "SVM_model.fit(X_train,y_train)\n",
    "print(\"\\nTraining time:\", round(time()-tt, 3), \"s\\n\")\n",
    "training_time.append(round(time()-tt, 3))\n",
    "train_pred3 = SVM_model.predict(X_train)\n",
    "print('\\nAccuracy Score for training data: ',accuracy_score(y_train,train_pred3))\n",
    "train_accuracy_scores.append(accuracy_score(y_train,train_pred3))\n",
    "\n",
    "pt = time()\n",
    "f_pred3 = SVM_model.predict(X_test)\n",
    "print(\"\\nPredicting time:\", round(time()-pt, 3), \"s\\n\")\n",
    "predicting_time.append(round(time()-pt, 3))\n",
    "print('\\nAccuracy Score for test data:',accuracy_score(y_test,f_pred3))\n",
    "print('\\nconfusion matrix:\\n',confusion_matrix(y_test,f_pred3))\n",
    "print('\\nprecision score:',precision_score(y_test,f_pred3,average='weighted'))\n",
    "print(classification_report(y_test, f_pred3))\n",
    "test_accuracy_scores.append(accuracy_score(y_test,f_pred3))\n",
    "precision_scores.append(precision_score(y_test,f_pred3,average='weighted'))"
   ]
  },
  {
   "cell_type": "markdown",
   "metadata": {},
   "source": [
    "# K-NEIGHBOUR"
   ]
  },
  {
   "cell_type": "code",
   "execution_count": 220,
   "metadata": {},
   "outputs": [],
   "source": [
    "from sklearn.neighbors import KNeighborsClassifier\n",
    "knc = KNeighborsClassifier()"
   ]
  },
  {
   "cell_type": "code",
   "execution_count": 221,
   "metadata": {},
   "outputs": [
    {
     "name": "stdout",
     "output_type": "stream",
     "text": [
      "\n",
      "Training time: 0.001 s\n",
      "\n",
      "\n",
      "Accuracy Score for training data:  0.5738095238095238\n",
      "\n",
      "Predicting time: 0.522 s\n",
      "\n",
      "\n",
      "Accuracy Score for test data: 0.36714285714285716\n",
      "\n",
      "confusion matrix:\n",
      " [[29 71  0  0  1  5  0]\n",
      " [10 84  0  0  2  3  0]\n",
      " [10 66  0  0  2  6  0]\n",
      " [ 2 48  0 42  1  1  0]\n",
      " [10 35  0  0 74  1  0]\n",
      " [23 68  0  0  2  9  0]\n",
      " [ 3 58  0  2  2 11 19]]\n",
      "\n",
      "precision score 0.5294491809408753\n",
      "              precision    recall  f1-score   support\n",
      "\n",
      "           0       0.33      0.27      0.30       106\n",
      "           1       0.20      0.85      0.32        99\n",
      "           2       0.00      0.00      0.00        84\n",
      "           3       0.95      0.45      0.61        94\n",
      "           4       0.88      0.62      0.73       120\n",
      "           5       0.25      0.09      0.13       102\n",
      "           6       1.00      0.20      0.33        95\n",
      "\n",
      "    accuracy                           0.37       700\n",
      "   macro avg       0.52      0.35      0.35       700\n",
      "weighted avg       0.53      0.37      0.36       700\n",
      "\n"
     ]
    },
    {
     "name": "stderr",
     "output_type": "stream",
     "text": [
      "C:\\Users\\AMAN SRIVASTAVA\\anaconda3\\lib\\site-packages\\sklearn\\metrics\\_classification.py:1308: UndefinedMetricWarning: Precision is ill-defined and being set to 0.0 in labels with no predicted samples. Use `zero_division` parameter to control this behavior.\n",
      "  _warn_prf(average, modifier, msg_start, len(result))\n",
      "C:\\Users\\AMAN SRIVASTAVA\\anaconda3\\lib\\site-packages\\sklearn\\metrics\\_classification.py:1308: UndefinedMetricWarning: Precision and F-score are ill-defined and being set to 0.0 in labels with no predicted samples. Use `zero_division` parameter to control this behavior.\n",
      "  _warn_prf(average, modifier, msg_start, len(result))\n",
      "C:\\Users\\AMAN SRIVASTAVA\\anaconda3\\lib\\site-packages\\sklearn\\metrics\\_classification.py:1308: UndefinedMetricWarning: Precision and F-score are ill-defined and being set to 0.0 in labels with no predicted samples. Use `zero_division` parameter to control this behavior.\n",
      "  _warn_prf(average, modifier, msg_start, len(result))\n",
      "C:\\Users\\AMAN SRIVASTAVA\\anaconda3\\lib\\site-packages\\sklearn\\metrics\\_classification.py:1308: UndefinedMetricWarning: Precision and F-score are ill-defined and being set to 0.0 in labels with no predicted samples. Use `zero_division` parameter to control this behavior.\n",
      "  _warn_prf(average, modifier, msg_start, len(result))\n",
      "C:\\Users\\AMAN SRIVASTAVA\\anaconda3\\lib\\site-packages\\sklearn\\metrics\\_classification.py:1308: UndefinedMetricWarning: Precision is ill-defined and being set to 0.0 in labels with no predicted samples. Use `zero_division` parameter to control this behavior.\n",
      "  _warn_prf(average, modifier, msg_start, len(result))\n"
     ]
    }
   ],
   "source": [
    "tt = time()\n",
    "knc.fit(X_train,y_train)\n",
    "print(\"\\nTraining time:\", round(time()-tt, 3), \"s\\n\")\n",
    "training_time.append(round(time()-tt, 3))\n",
    "train_pred4 = knc.predict(X_train)\n",
    "print('\\nAccuracy Score for training data: ',accuracy_score(y_train,train_pred4))\n",
    "train_accuracy_scores.append(accuracy_score(y_train,train_pred4))\n",
    "\n",
    "pt = time()\n",
    "f_pred4 = knc.predict(X_test)\n",
    "print(\"\\nPredicting time:\", round(time()-pt, 3), \"s\\n\")\n",
    "predicting_time.append(round(time()-pt, 3))\n",
    "print('\\nAccuracy Score for test data:',accuracy_score(y_test,f_pred4))\n",
    "print('\\nconfusion matrix:\\n',confusion_matrix(y_test,f_pred4))\n",
    "print('\\nprecision score',precision_score(y_test,f_pred4,average='weighted'))\n",
    "print(classification_report(y_test, f_pred4))\n",
    "test_accuracy_scores.append(accuracy_score(y_test,f_pred4))\n",
    "precision_scores.append(precision_score(y_test,f_pred4,average='weighted'))"
   ]
  },
  {
   "cell_type": "markdown",
   "metadata": {},
   "source": [
    "# # RANDOM FOREST"
   ]
  },
  {
   "cell_type": "code",
   "execution_count": 222,
   "metadata": {},
   "outputs": [
    {
     "name": "stdout",
     "output_type": "stream",
     "text": [
      "\n",
      "Training time: 2.868 s\n",
      "\n",
      "\n",
      "Accuracy Score for training data:  1.0\n",
      "\n",
      "Predicting time: 0.049 s\n",
      "\n",
      "\n",
      "Accuracy Score for test data: 0.7885714285714286\n",
      "\n",
      "confusion matrix:\n",
      " [[ 92   2   3   2   1   5   1]\n",
      " [  4  83   6   0   2   2   2]\n",
      " [ 25   9  27   4   1  14   4]\n",
      " [  5   1   7  77   0   3   1]\n",
      " [  0   0   1   0 119   0   0]\n",
      " [ 18   1   5   1   3  71   3]\n",
      " [  4   3   5   0   0   0  83]]\n",
      "\n",
      "precision score 0.7864377850895207\n",
      "              precision    recall  f1-score   support\n",
      "\n",
      "           0       0.62      0.87      0.72       106\n",
      "           1       0.84      0.84      0.84        99\n",
      "           2       0.50      0.32      0.39        84\n",
      "           3       0.92      0.82      0.87        94\n",
      "           4       0.94      0.99      0.97       120\n",
      "           5       0.75      0.70      0.72       102\n",
      "           6       0.88      0.87      0.88        95\n",
      "\n",
      "    accuracy                           0.79       700\n",
      "   macro avg       0.78      0.77      0.77       700\n",
      "weighted avg       0.79      0.79      0.78       700\n",
      "\n"
     ]
    }
   ],
   "source": [
    "from sklearn.ensemble import RandomForestClassifier\n",
    "rfc = RandomForestClassifier(n_estimators=50, random_state=2)\n",
    "tt = time()\n",
    "rfc.fit(X_train,y_train)\n",
    "print(\"\\nTraining time:\", round(time()-tt, 3), \"s\\n\")\n",
    "training_time.append(round(time()-tt, 3))\n",
    "train_pred5 = rfc.predict(X_train)\n",
    "print('\\nAccuracy Score for training data: ',accuracy_score(y_train,train_pred5))\n",
    "train_accuracy_scores.append(accuracy_score(y_train,train_pred5))\n",
    "\n",
    "pt = time()\n",
    "f_pred5 = rfc.predict(X_test)\n",
    "print(\"\\nPredicting time:\", round(time()-pt, 3), \"s\\n\")\n",
    "predicting_time.append(round(time()-pt, 3))\n",
    "print('\\nAccuracy Score for test data:',accuracy_score(y_test,f_pred5))\n",
    "print('\\nconfusion matrix:\\n',confusion_matrix(y_test,f_pred5))\n",
    "print('\\nprecision score',precision_score(y_test,f_pred5,average='weighted'))\n",
    "print(classification_report(y_test, f_pred5))\n",
    "test_accuracy_scores.append(accuracy_score(y_test,f_pred5))\n",
    "precision_scores.append(precision_score(y_test,f_pred5,average='weighted'))"
   ]
  },
  {
   "cell_type": "markdown",
   "metadata": {},
   "source": [
    "#  DECISION TREE"
   ]
  },
  {
   "cell_type": "code",
   "execution_count": 223,
   "metadata": {},
   "outputs": [
    {
     "name": "stdout",
     "output_type": "stream",
     "text": [
      "\n",
      "Training time: 1.311 s\n",
      "\n",
      "\n",
      "Accuracy Score for training data:  0.36714285714285716\n",
      "\n",
      "Predicting time: 0.016 s\n",
      "\n",
      "\n",
      "Accuracy Score for test data: 0.3585714285714286\n",
      "\n",
      "confusion matrix:\n",
      " [[10  2 24  2  1  4 63]\n",
      " [ 0 34  9  1  1  2 52]\n",
      " [ 2  3 26  0  0  8 45]\n",
      " [ 0  0 26 14  0  5 49]\n",
      " [ 0  0  6  0 64  3 47]\n",
      " [ 3  4  2  0  7 27 59]\n",
      " [ 0  2 16  0  1  0 76]]\n",
      "\n",
      "precision score 0.6019549531178177\n",
      "              precision    recall  f1-score   support\n",
      "\n",
      "           0       0.67      0.09      0.17       106\n",
      "           1       0.76      0.34      0.47        99\n",
      "           2       0.24      0.31      0.27        84\n",
      "           3       0.82      0.15      0.25        94\n",
      "           4       0.86      0.53      0.66       120\n",
      "           5       0.55      0.26      0.36       102\n",
      "           6       0.19      0.80      0.31        95\n",
      "\n",
      "    accuracy                           0.36       700\n",
      "   macro avg       0.58      0.36      0.36       700\n",
      "weighted avg       0.60      0.36      0.37       700\n",
      "\n"
     ]
    }
   ],
   "source": [
    "from sklearn.tree import DecisionTreeClassifier\n",
    "dtc = DecisionTreeClassifier(max_depth=5)\n",
    "tt = time()\n",
    "dtc.fit(X_train,y_train)\n",
    "print(\"\\nTraining time:\", round(time()-tt, 3), \"s\\n\")\n",
    "training_time.append(round(time()-tt, 3))\n",
    "train_pred6 = dtc.predict(X_train)\n",
    "print('\\nAccuracy Score for training data: ',accuracy_score(y_train,train_pred6))\n",
    "train_accuracy_scores.append(accuracy_score(y_train,train_pred6))\n",
    "\n",
    "pt = time()\n",
    "f_pred6 = dtc.predict(X_test)\n",
    "print(\"\\nPredicting time:\", round(time()-pt, 3), \"s\\n\")\n",
    "predicting_time.append(round(time()-pt, 3))\n",
    "print('\\nAccuracy Score for test data:',accuracy_score(y_test,f_pred6))\n",
    "print('\\nconfusion matrix:\\n',confusion_matrix(y_test,f_pred6))\n",
    "print('\\nprecision score',precision_score(y_test,f_pred6,average='weighted'))\n",
    "print(classification_report(y_test, f_pred6))\n",
    "test_accuracy_scores.append(accuracy_score(y_test,f_pred6))\n",
    "precision_scores.append(precision_score(y_test,f_pred6,average='weighted'))"
   ]
  },
  {
   "cell_type": "markdown",
   "metadata": {},
   "source": [
    "# LOGISTIC REGRESSION"
   ]
  },
  {
   "cell_type": "code",
   "execution_count": 224,
   "metadata": {},
   "outputs": [
    {
     "name": "stdout",
     "output_type": "stream",
     "text": [
      "\n",
      "Training time: 0.321 s\n",
      "\n",
      "\n",
      "Accuracy Score for training data:  0.9990476190476191\n",
      "\n",
      "Predicting time: 0.021 s\n",
      "\n",
      "\n",
      "Accuracy Score for test data: 0.8014285714285714\n",
      "\n",
      "confusion matrix:\n",
      " [[ 80   7  10   1   0   6   2]\n",
      " [  5  79   2   2   0   3   8]\n",
      " [ 14   4  33  11   1  16   5]\n",
      " [  5   0   4  81   0   2   2]\n",
      " [  0   0   1   0 119   0   0]\n",
      " [  7   2   8   2   1  82   0]\n",
      " [  2   3   1   1   0   1  87]]\n",
      "\n",
      "precision score 0.7936736262624281\n",
      "              precision    recall  f1-score   support\n",
      "\n",
      "           0       0.71      0.75      0.73       106\n",
      "           1       0.83      0.80      0.81        99\n",
      "           2       0.56      0.39      0.46        84\n",
      "           3       0.83      0.86      0.84        94\n",
      "           4       0.98      0.99      0.99       120\n",
      "           5       0.75      0.80      0.77       102\n",
      "           6       0.84      0.92      0.87        95\n",
      "\n",
      "    accuracy                           0.80       700\n",
      "   macro avg       0.78      0.79      0.78       700\n",
      "weighted avg       0.79      0.80      0.80       700\n",
      "\n"
     ]
    }
   ],
   "source": [
    "from sklearn.linear_model import LogisticRegression\n",
    "lr = LogisticRegression(solver='liblinear', penalty='l1')\n",
    "tt = time()\n",
    "lr.fit(X_train,y_train)\n",
    "print(\"\\nTraining time:\", round(time()-tt, 3), \"s\\n\")\n",
    "training_time.append(round(time()-tt, 3))\n",
    "train_pred7 = lr.predict(X_train)\n",
    "print('\\nAccuracy Score for training data: ',accuracy_score(y_train,train_pred7))\n",
    "train_accuracy_scores.append(accuracy_score(y_train,train_pred7))\n",
    "\n",
    "pt = time()\n",
    "f_pred7 = lr.predict(X_test)\n",
    "print(\"\\nPredicting time:\", round(time()-pt, 3), \"s\\n\")\n",
    "predicting_time.append(round(time()-pt, 3))\n",
    "print('\\nAccuracy Score for test data:',accuracy_score(y_test,f_pred7))\n",
    "print('\\nconfusion matrix:\\n',confusion_matrix(y_test,f_pred7))\n",
    "print('\\nprecision score',precision_score(y_test,f_pred7,average='weighted'))\n",
    "print(classification_report(y_test, f_pred7))\n",
    "test_accuracy_scores.append(accuracy_score(y_test,f_pred7))\n",
    "precision_scores.append(precision_score(y_test,f_pred7,average='weighted'))"
   ]
  },
  {
   "cell_type": "markdown",
   "metadata": {},
   "source": [
    "# NEURAL NETWORK"
   ]
  },
  {
   "cell_type": "code",
   "execution_count": 225,
   "metadata": {},
   "outputs": [],
   "source": [
    "from keras.models import Sequential\n",
    "from keras.layers import Dense\n",
    "from keras.wrappers.scikit_learn import KerasClassifier\n",
    "from keras.optimizers import Adam"
   ]
  },
  {
   "cell_type": "code",
   "execution_count": 226,
   "metadata": {},
   "outputs": [],
   "source": [
    "def create_model():\n",
    "    model_nn = Sequential()\n",
    "    model_nn.add(Dense(10, input_dim=10000, kernel_initializer='uniform', activation='relu'))\n",
    "    model_nn.add(Dense(1, kernel_initializer='uniform', activation='sigmoid'))\n",
    "    \n",
    "    adam=Adam(lr=0.01)\n",
    "    model_nn.compile(loss='binary_crossentropy', optimizer=adam, metrics=['accuracy'])\n",
    "    return model_nn\n",
    "\n",
    "model_nn = KerasClassifier(build_fn=create_model,verbose = 0, batch_size = 10, epochs = 100 )\n"
   ]
  },
  {
   "cell_type": "code",
   "execution_count": 227,
   "metadata": {},
   "outputs": [
    {
     "name": "stdout",
     "output_type": "stream",
     "text": [
      "\n",
      "Training time: 23.966 s\n",
      "\n"
     ]
    },
    {
     "name": "stderr",
     "output_type": "stream",
     "text": [
      "C:\\Users\\AMAN SRIVASTAVA\\anaconda3\\lib\\site-packages\\tensorflow\\python\\keras\\engine\\sequential.py:450: UserWarning: `model.predict_classes()` is deprecated and will be removed after 2021-01-01. Please use instead:* `np.argmax(model.predict(x), axis=-1)`,   if your model does multi-class classification   (e.g. if it uses a `softmax` last-layer activation).* `(model.predict(x) > 0.5).astype(\"int32\")`,   if your model does binary classification   (e.g. if it uses a `sigmoid` last-layer activation).\n",
      "  warnings.warn('`model.predict_classes()` is deprecated and '\n"
     ]
    },
    {
     "name": "stdout",
     "output_type": "stream",
     "text": [
      "\n",
      "Accuracy Score for training data:  0.14333333333333334\n"
     ]
    }
   ],
   "source": [
    "tt = time()\n",
    "model_nn.fit(X_train,y_train)\n",
    "print(\"\\nTraining time:\", round(time()-tt, 3), \"s\\n\")\n",
    "training_time.append(round(time()-tt, 3))\n",
    "train_pred8 = model_nn.predict(X_train)\n",
    "print('\\nAccuracy Score for training data: ',accuracy_score(y_train,train_pred8))\n",
    "train_accuracy_scores.append(accuracy_score(y_train,train_pred8))"
   ]
  },
  {
   "cell_type": "code",
   "execution_count": 228,
   "metadata": {},
   "outputs": [
    {
     "name": "stdout",
     "output_type": "stream",
     "text": [
      "\n",
      "Predicting time: 0.094 s\n",
      "\n",
      "\n",
      "Accuracy Score for test data: 0.14142857142857143\n",
      "\n",
      "confusion matrix:\n",
      " [[  0 106   0   0   0   0   0]\n",
      " [  0  99   0   0   0   0   0]\n",
      " [  0  84   0   0   0   0   0]\n",
      " [  0  94   0   0   0   0   0]\n",
      " [  0 120   0   0   0   0   0]\n",
      " [  0 102   0   0   0   0   0]\n",
      " [  0  95   0   0   0   0   0]]\n",
      "\n",
      "precision score: 0.02000204081632653\n",
      "              precision    recall  f1-score   support\n",
      "\n",
      "           0       0.00      0.00      0.00       106\n",
      "           1       0.14      1.00      0.25        99\n",
      "           2       0.00      0.00      0.00        84\n",
      "           3       0.00      0.00      0.00        94\n",
      "           4       0.00      0.00      0.00       120\n",
      "           5       0.00      0.00      0.00       102\n",
      "           6       0.00      0.00      0.00        95\n",
      "\n",
      "    accuracy                           0.14       700\n",
      "   macro avg       0.02      0.14      0.04       700\n",
      "weighted avg       0.02      0.14      0.04       700\n",
      "\n"
     ]
    },
    {
     "name": "stderr",
     "output_type": "stream",
     "text": [
      "C:\\Users\\AMAN SRIVASTAVA\\anaconda3\\lib\\site-packages\\tensorflow\\python\\keras\\engine\\sequential.py:450: UserWarning: `model.predict_classes()` is deprecated and will be removed after 2021-01-01. Please use instead:* `np.argmax(model.predict(x), axis=-1)`,   if your model does multi-class classification   (e.g. if it uses a `softmax` last-layer activation).* `(model.predict(x) > 0.5).astype(\"int32\")`,   if your model does binary classification   (e.g. if it uses a `sigmoid` last-layer activation).\n",
      "  warnings.warn('`model.predict_classes()` is deprecated and '\n",
      "C:\\Users\\AMAN SRIVASTAVA\\anaconda3\\lib\\site-packages\\sklearn\\metrics\\_classification.py:1308: UndefinedMetricWarning: Precision is ill-defined and being set to 0.0 in labels with no predicted samples. Use `zero_division` parameter to control this behavior.\n",
      "  _warn_prf(average, modifier, msg_start, len(result))\n",
      "C:\\Users\\AMAN SRIVASTAVA\\anaconda3\\lib\\site-packages\\sklearn\\metrics\\_classification.py:1308: UndefinedMetricWarning: Precision and F-score are ill-defined and being set to 0.0 in labels with no predicted samples. Use `zero_division` parameter to control this behavior.\n",
      "  _warn_prf(average, modifier, msg_start, len(result))\n",
      "C:\\Users\\AMAN SRIVASTAVA\\anaconda3\\lib\\site-packages\\sklearn\\metrics\\_classification.py:1308: UndefinedMetricWarning: Precision and F-score are ill-defined and being set to 0.0 in labels with no predicted samples. Use `zero_division` parameter to control this behavior.\n",
      "  _warn_prf(average, modifier, msg_start, len(result))\n",
      "C:\\Users\\AMAN SRIVASTAVA\\anaconda3\\lib\\site-packages\\sklearn\\metrics\\_classification.py:1308: UndefinedMetricWarning: Precision and F-score are ill-defined and being set to 0.0 in labels with no predicted samples. Use `zero_division` parameter to control this behavior.\n",
      "  _warn_prf(average, modifier, msg_start, len(result))\n",
      "C:\\Users\\AMAN SRIVASTAVA\\anaconda3\\lib\\site-packages\\sklearn\\metrics\\_classification.py:1308: UndefinedMetricWarning: Precision is ill-defined and being set to 0.0 in labels with no predicted samples. Use `zero_division` parameter to control this behavior.\n",
      "  _warn_prf(average, modifier, msg_start, len(result))\n"
     ]
    }
   ],
   "source": [
    "pt = time()\n",
    "f_pred8 = model_nn.predict(X_test)\n",
    "print(\"\\nPredicting time:\", round(time()-pt, 3), \"s\\n\")\n",
    "predicting_time.append(round(time()-pt, 3))\n",
    "print('\\nAccuracy Score for test data:',accuracy_score(y_test,f_pred8))\n",
    "print('\\nconfusion matrix:\\n',confusion_matrix(y_test,f_pred8))\n",
    "print('\\nprecision score:',precision_score(y_test,f_pred8,average='weighted'))\n",
    "print(classification_report(y_test, f_pred8))\n",
    "test_accuracy_scores.append(accuracy_score(y_test,f_pred8))\n",
    "precision_scores.append(precision_score(y_test,f_pred8,average='weighted'))"
   ]
  },
  {
   "cell_type": "code",
   "execution_count": 229,
   "metadata": {},
   "outputs": [
    {
     "data": {
      "text/html": [
       "<div>\n",
       "<style scoped>\n",
       "    .dataframe tbody tr th:only-of-type {\n",
       "        vertical-align: middle;\n",
       "    }\n",
       "\n",
       "    .dataframe tbody tr th {\n",
       "        vertical-align: top;\n",
       "    }\n",
       "\n",
       "    .dataframe thead th {\n",
       "        text-align: right;\n",
       "    }\n",
       "</style>\n",
       "<table border=\"1\" class=\"dataframe\">\n",
       "  <thead>\n",
       "    <tr style=\"text-align: right;\">\n",
       "      <th></th>\n",
       "      <th>Algorithm</th>\n",
       "      <th>Training Time</th>\n",
       "      <th>Prediction Time</th>\n",
       "      <th>Train Accuracy</th>\n",
       "      <th>Test Accuracy</th>\n",
       "      <th>Precision</th>\n",
       "    </tr>\n",
       "  </thead>\n",
       "  <tbody>\n",
       "    <tr>\n",
       "      <th>1</th>\n",
       "      <td>MNB</td>\n",
       "      <td>0.917</td>\n",
       "      <td>0.022</td>\n",
       "      <td>0.990000</td>\n",
       "      <td>0.857143</td>\n",
       "      <td>0.873658</td>\n",
       "    </tr>\n",
       "    <tr>\n",
       "      <th>2</th>\n",
       "      <td>SVM</td>\n",
       "      <td>17.833</td>\n",
       "      <td>4.375</td>\n",
       "      <td>1.000000</td>\n",
       "      <td>0.815714</td>\n",
       "      <td>0.810854</td>\n",
       "    </tr>\n",
       "    <tr>\n",
       "      <th>6</th>\n",
       "      <td>LOGISTIC REGRESSION</td>\n",
       "      <td>0.321</td>\n",
       "      <td>0.021</td>\n",
       "      <td>0.999048</td>\n",
       "      <td>0.801429</td>\n",
       "      <td>0.793674</td>\n",
       "    </tr>\n",
       "    <tr>\n",
       "      <th>4</th>\n",
       "      <td>RANDOM FOREST</td>\n",
       "      <td>2.868</td>\n",
       "      <td>0.050</td>\n",
       "      <td>1.000000</td>\n",
       "      <td>0.788571</td>\n",
       "      <td>0.786438</td>\n",
       "    </tr>\n",
       "    <tr>\n",
       "      <th>0</th>\n",
       "      <td>GNB</td>\n",
       "      <td>0.429</td>\n",
       "      <td>0.441</td>\n",
       "      <td>0.997619</td>\n",
       "      <td>0.755714</td>\n",
       "      <td>0.816528</td>\n",
       "    </tr>\n",
       "    <tr>\n",
       "      <th>3</th>\n",
       "      <td>K-NEIGHBOURS</td>\n",
       "      <td>0.002</td>\n",
       "      <td>0.524</td>\n",
       "      <td>0.573810</td>\n",
       "      <td>0.367143</td>\n",
       "      <td>0.529449</td>\n",
       "    </tr>\n",
       "    <tr>\n",
       "      <th>5</th>\n",
       "      <td>DECISION TREE</td>\n",
       "      <td>1.311</td>\n",
       "      <td>0.016</td>\n",
       "      <td>0.367143</td>\n",
       "      <td>0.358571</td>\n",
       "      <td>0.601955</td>\n",
       "    </tr>\n",
       "    <tr>\n",
       "      <th>7</th>\n",
       "      <td>NEURAL NETWORKS</td>\n",
       "      <td>23.966</td>\n",
       "      <td>0.094</td>\n",
       "      <td>0.143333</td>\n",
       "      <td>0.141429</td>\n",
       "      <td>0.020002</td>\n",
       "    </tr>\n",
       "  </tbody>\n",
       "</table>\n",
       "</div>"
      ],
      "text/plain": [
       "             Algorithm  Training Time  Prediction Time  Train Accuracy  \\\n",
       "1                  MNB          0.917            0.022        0.990000   \n",
       "2                  SVM         17.833            4.375        1.000000   \n",
       "6  LOGISTIC REGRESSION          0.321            0.021        0.999048   \n",
       "4        RANDOM FOREST          2.868            0.050        1.000000   \n",
       "0                  GNB          0.429            0.441        0.997619   \n",
       "3         K-NEIGHBOURS          0.002            0.524        0.573810   \n",
       "5        DECISION TREE          1.311            0.016        0.367143   \n",
       "7      NEURAL NETWORKS         23.966            0.094        0.143333   \n",
       "\n",
       "   Test Accuracy  Precision  \n",
       "1       0.857143   0.873658  \n",
       "2       0.815714   0.810854  \n",
       "6       0.801429   0.793674  \n",
       "4       0.788571   0.786438  \n",
       "0       0.755714   0.816528  \n",
       "3       0.367143   0.529449  \n",
       "5       0.358571   0.601955  \n",
       "7       0.141429   0.020002  "
      ]
     },
     "execution_count": 229,
     "metadata": {},
     "output_type": "execute_result"
    }
   ],
   "source": [
    "algorithms = ['GNB','MNB','SVM','K-NEIGHBOURS','RANDOM FOREST','DECISION TREE','LOGISTIC REGRESSION','NEURAL NETWORKS']\n",
    "#creating a dataframe to showcase all the model's performance metrices\n",
    "performance_tab = pd.DataFrame({'Algorithm':algorithms,'Training Time':training_time,'Prediction Time':predicting_time,'Train Accuracy':train_accuracy_scores,'Test Accuracy':test_accuracy_scores,'Precision':precision_scores}).sort_values('Test Accuracy',ascending=False)\n",
    "performance_tab"
   ]
  },
  {
   "cell_type": "markdown",
   "metadata": {},
   "source": [
    "Since the prediction time,accuracy and precision of MNB better than other algorithms, we go with MNB."
   ]
  },
  {
   "cell_type": "code",
   "execution_count": 231,
   "metadata": {},
   "outputs": [],
   "source": [
    "import pickle\n",
    "pickle.dump(cv,open('vectorizer.pkl','wb'))\n",
    "pickle.dump(mnb,open('model.pkl','wb'))\n",
    "pickle.dump(gh,open('books.pkl','wb'))"
   ]
  },
  {
   "cell_type": "code",
   "execution_count": 232,
   "metadata": {},
   "outputs": [],
   "source": [
    "rec = [\"As we look back, we will be able to see how much we have lost over Ayodhya through the years of conflict. If the loss of a mosque is preservation of faith, if the establishment of a temple is emancipation of faith, we can all join together in celebrating faith in the Constitution. Sometimes, a step back to accommodate is several steps forward towards our common destiny.\"]"
   ]
  },
  {
   "cell_type": "code",
   "execution_count": 234,
   "metadata": {},
   "outputs": [],
   "source": [
    "t = cv.transform(rec).toarray()"
   ]
  },
  {
   "cell_type": "code",
   "execution_count": 235,
   "metadata": {},
   "outputs": [],
   "source": [
    "pr = le.inverse_transform(mnb.predict(t))"
   ]
  },
  {
   "cell_type": "code",
   "execution_count": 236,
   "metadata": {},
   "outputs": [
    {
     "data": {
      "text/plain": [
       "'Mystery'"
      ]
     },
     "execution_count": 236,
     "metadata": {},
     "output_type": "execute_result"
    }
   ],
   "source": [
    "pr[0]"
   ]
  },
  {
   "cell_type": "code",
   "execution_count": 237,
   "metadata": {},
   "outputs": [],
   "source": [
    "def recommend(genre):\n",
    "    recommended_books = df[df['genre'] == genre].sort_values(by = 'average_rating',ascending = False).head()\n",
    "    print(recommended_books.title)\n",
    "        \n",
    "    return"
   ]
  },
  {
   "cell_type": "code",
   "execution_count": 239,
   "metadata": {},
   "outputs": [
    {
     "name": "stdout",
     "output_type": "stream",
     "text": [
      "3811               Addressed To Her: A Short Story\n",
      "2795    Trueman Bradley - The Next Great Detective\n",
      "3188            HIDDEN MICKEY 2: It All Started...\n",
      "1887                              The Trapped Girl\n",
      "2395                          Shadows in the Salon\n",
      "Name: title, dtype: object\n"
     ]
    }
   ],
   "source": [
    "recommend('Mystery')"
   ]
  },
  {
   "cell_type": "code",
   "execution_count": null,
   "metadata": {},
   "outputs": [],
   "source": []
  }
 ],
 "metadata": {
  "kernelspec": {
   "display_name": "Python 3",
   "language": "python",
   "name": "python3"
  },
  "language_info": {
   "codemirror_mode": {
    "name": "ipython",
    "version": 3
   },
   "file_extension": ".py",
   "mimetype": "text/x-python",
   "name": "python",
   "nbconvert_exporter": "python",
   "pygments_lexer": "ipython3",
   "version": "3.8.5"
  }
 },
 "nbformat": 4,
 "nbformat_minor": 4
}
